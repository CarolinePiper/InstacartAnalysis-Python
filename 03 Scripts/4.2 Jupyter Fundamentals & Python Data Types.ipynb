{
 "cells": [
  {
   "cell_type": "markdown",
   "id": "2007f437",
   "metadata": {},
   "source": [
    "# 4.2 Jupyter Fundamentals & Python Data Types"
   ]
  },
  {
   "cell_type": "markdown",
   "id": "98f2dd03",
   "metadata": {},
   "source": [
    "# Content List"
   ]
  },
  {
   "cell_type": "markdown",
   "id": "6fb9321b",
   "metadata": {},
   "source": [
    "Import Libraries"
   ]
  },
  {
   "cell_type": "markdown",
   "id": "145f9ce7",
   "metadata": {},
   "source": [
    "Code 3 different ways of reaching a result of 100 by adding or subtracting numeric variables"
   ]
  },
  {
   "cell_type": "markdown",
   "id": "8d0cf29a",
   "metadata": {},
   "source": [
    "Code 2 floating-point variables and divide them by each other"
   ]
  },
  {
   "cell_type": "markdown",
   "id": "29b03780",
   "metadata": {},
   "source": [
    "Construct a short word made of separate strings"
   ]
  },
  {
   "cell_type": "markdown",
   "id": "6f39be3b",
   "metadata": {},
   "source": [
    "Construct 2 short sentences made of separate strings"
   ]
  },
  {
   "cell_type": "markdown",
   "id": "0aaaab39",
   "metadata": {},
   "source": [
    "Repeat sentence 100 times"
   ]
  },
  {
   "cell_type": "markdown",
   "id": "47f5317d",
   "metadata": {},
   "source": [
    "# Importing Libraries"
   ]
  },
  {
   "cell_type": "code",
   "execution_count": 25,
   "id": "d9a511ef",
   "metadata": {},
   "outputs": [],
   "source": [
    "import pandas as pd\n",
    "import numpy as np\n",
    "import os"
   ]
  },
  {
   "cell_type": "markdown",
   "id": "4ae98aaf",
   "metadata": {},
   "source": [
    "# Working with Python data types"
   ]
  },
  {
   "cell_type": "code",
   "execution_count": 26,
   "id": "5d2fc807",
   "metadata": {},
   "outputs": [],
   "source": [
    "x=5"
   ]
  },
  {
   "cell_type": "code",
   "execution_count": 27,
   "id": "f29e5b0e",
   "metadata": {},
   "outputs": [],
   "source": [
    "y=95"
   ]
  },
  {
   "cell_type": "code",
   "execution_count": 28,
   "id": "020f939f",
   "metadata": {},
   "outputs": [
    {
     "data": {
      "text/plain": [
       "100"
      ]
     },
     "execution_count": 28,
     "metadata": {},
     "output_type": "execute_result"
    }
   ],
   "source": [
    "x+y"
   ]
  },
  {
   "cell_type": "code",
   "execution_count": 29,
   "id": "a7206b44",
   "metadata": {},
   "outputs": [],
   "source": [
    "h=200"
   ]
  },
  {
   "cell_type": "code",
   "execution_count": 30,
   "id": "302dc3ee",
   "metadata": {},
   "outputs": [],
   "source": [
    "g=100"
   ]
  },
  {
   "cell_type": "code",
   "execution_count": 31,
   "id": "062a083c",
   "metadata": {},
   "outputs": [
    {
     "data": {
      "text/plain": [
       "100"
      ]
     },
     "execution_count": 31,
     "metadata": {},
     "output_type": "execute_result"
    }
   ],
   "source": [
    "h-g"
   ]
  },
  {
   "cell_type": "code",
   "execution_count": 32,
   "id": "a8467c4a",
   "metadata": {},
   "outputs": [],
   "source": [
    "a=45"
   ]
  },
  {
   "cell_type": "code",
   "execution_count": 33,
   "id": "b09a4596",
   "metadata": {},
   "outputs": [],
   "source": [
    "b=55"
   ]
  },
  {
   "cell_type": "code",
   "execution_count": 34,
   "id": "bbc32e30",
   "metadata": {},
   "outputs": [
    {
     "data": {
      "text/plain": [
       "100"
      ]
     },
     "execution_count": 34,
     "metadata": {},
     "output_type": "execute_result"
    }
   ],
   "source": [
    "a+b"
   ]
  },
  {
   "cell_type": "code",
   "execution_count": 35,
   "id": "6d57709c",
   "metadata": {},
   "outputs": [],
   "source": [
    "j=6.7"
   ]
  },
  {
   "cell_type": "code",
   "execution_count": 36,
   "id": "21a251d0",
   "metadata": {},
   "outputs": [],
   "source": [
    "k=9.8"
   ]
  },
  {
   "cell_type": "code",
   "execution_count": 37,
   "id": "46dd07f7",
   "metadata": {},
   "outputs": [
    {
     "data": {
      "text/plain": [
       "1.462686567164179"
      ]
     },
     "execution_count": 37,
     "metadata": {},
     "output_type": "execute_result"
    }
   ],
   "source": [
    "k/j"
   ]
  },
  {
   "cell_type": "code",
   "execution_count": 38,
   "id": "ca88870b",
   "metadata": {},
   "outputs": [],
   "source": [
    "w='c'"
   ]
  },
  {
   "cell_type": "code",
   "execution_count": 39,
   "id": "617bb851",
   "metadata": {},
   "outputs": [],
   "source": [
    "e='a'"
   ]
  },
  {
   "cell_type": "code",
   "execution_count": 40,
   "id": "8dcfd479",
   "metadata": {},
   "outputs": [],
   "source": [
    "r='t'"
   ]
  },
  {
   "cell_type": "code",
   "execution_count": 41,
   "id": "bea74f8e",
   "metadata": {},
   "outputs": [
    {
     "data": {
      "text/plain": [
       "'cat'"
      ]
     },
     "execution_count": 41,
     "metadata": {},
     "output_type": "execute_result"
    }
   ],
   "source": [
    "w+e+r"
   ]
  },
  {
   "cell_type": "code",
   "execution_count": 42,
   "id": "05bd741d",
   "metadata": {},
   "outputs": [],
   "source": [
    "a='Hi, '"
   ]
  },
  {
   "cell_type": "code",
   "execution_count": 43,
   "id": "b920ed9f",
   "metadata": {},
   "outputs": [],
   "source": [
    "b='my name '"
   ]
  },
  {
   "cell_type": "code",
   "execution_count": 44,
   "id": "c502cc03",
   "metadata": {},
   "outputs": [],
   "source": [
    "c='is Caroline.'"
   ]
  },
  {
   "cell_type": "code",
   "execution_count": 45,
   "id": "7c38442a",
   "metadata": {},
   "outputs": [
    {
     "data": {
      "text/plain": [
       "'Hi, my name is Caroline.'"
      ]
     },
     "execution_count": 45,
     "metadata": {},
     "output_type": "execute_result"
    }
   ],
   "source": [
    "a+b+c"
   ]
  },
  {
   "cell_type": "code",
   "execution_count": 46,
   "id": "feb784b5",
   "metadata": {},
   "outputs": [],
   "source": [
    "q='How '"
   ]
  },
  {
   "cell_type": "code",
   "execution_count": 47,
   "id": "9b299f1f",
   "metadata": {},
   "outputs": [],
   "source": [
    "w='are '"
   ]
  },
  {
   "cell_type": "code",
   "execution_count": 48,
   "id": "bede9500",
   "metadata": {},
   "outputs": [],
   "source": [
    "e='you?'"
   ]
  },
  {
   "cell_type": "code",
   "execution_count": 49,
   "id": "a8fe505b",
   "metadata": {},
   "outputs": [
    {
     "data": {
      "text/plain": [
       "'How are you?'"
      ]
     },
     "execution_count": 49,
     "metadata": {},
     "output_type": "execute_result"
    }
   ],
   "source": [
    "q+w+e"
   ]
  },
  {
   "cell_type": "code",
   "execution_count": null,
   "id": "2a3c0a40",
   "metadata": {},
   "outputs": [],
   "source": []
  }
 ],
 "metadata": {
  "kernelspec": {
   "display_name": "Python 3 (ipykernel)",
   "language": "python",
   "name": "python3"
  },
  "language_info": {
   "codemirror_mode": {
    "name": "ipython",
    "version": 3
   },
   "file_extension": ".py",
   "mimetype": "text/x-python",
   "name": "python",
   "nbconvert_exporter": "python",
   "pygments_lexer": "ipython3",
   "version": "3.11.5"
  }
 },
 "nbformat": 4,
 "nbformat_minor": 5
}
