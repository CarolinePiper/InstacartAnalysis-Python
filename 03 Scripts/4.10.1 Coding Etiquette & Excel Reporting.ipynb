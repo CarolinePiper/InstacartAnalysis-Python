{
 "cells": [
  {
   "cell_type": "markdown",
   "id": "b6945cfb",
   "metadata": {},
   "source": [
    "# 4.10.1 Coding Etiquette & Excel Reporting"
   ]
  },
  {
   "cell_type": "markdown",
   "id": "05039584",
   "metadata": {},
   "source": [
    "# Contents List"
   ]
  },
  {
   "cell_type": "markdown",
   "id": "3bb32c4e",
   "metadata": {},
   "source": [
    "### 01 Import Libraries"
   ]
  },
  {
   "cell_type": "markdown",
   "id": "269076ac",
   "metadata": {},
   "source": [
    "Create Path"
   ]
  },
  {
   "cell_type": "markdown",
   "id": "019dfe49",
   "metadata": {},
   "source": [
    "### 02 Import Data "
   ]
  },
  {
   "cell_type": "markdown",
   "id": "165937b2",
   "metadata": {},
   "source": [
    "Importing \"orders_products_customer_merged.pkl\""
   ]
  },
  {
   "cell_type": "markdown",
   "id": "046dd6a8",
   "metadata": {},
   "source": [
    "Removing the limit to the amount of columns displayed by default"
   ]
  },
  {
   "cell_type": "markdown",
   "id": "9a369763",
   "metadata": {},
   "source": [
    "Dropping eval_set"
   ]
  },
  {
   "cell_type": "markdown",
   "id": "33c6da69",
   "metadata": {},
   "source": [
    "Dropping _merge"
   ]
  },
  {
   "cell_type": "markdown",
   "id": "1f10412f",
   "metadata": {},
   "source": [
    "### 03 Task"
   ]
  },
  {
   "cell_type": "markdown",
   "id": "320c8a23",
   "metadata": {},
   "source": [
    "2) Consider any security implications that might exist for this new data. You’ll need to address any PII data in the data before continuing your analysis."
   ]
  },
  {
   "cell_type": "markdown",
   "id": "f8e506a1",
   "metadata": {},
   "source": [
    "3) The Instacart officers are interested in comparing customer behavior in different geographic areas. Create a regional segmentation of the data. You’ll need to create a “Region” column based on the “State” column from your customers data set.\n",
    "Use the region information in this Wikipedia article to create your column (you only need to create regions, not divisions).\n",
    "Determine whether there’s a difference in spending habits between the different U.S. regions. (Hint: You can do this by crossing the variable you just created with the spending flag.)"
   ]
  },
  {
   "cell_type": "markdown",
   "id": "819ee7db",
   "metadata": {},
   "source": [
    "Create the regions"
   ]
  },
  {
   "cell_type": "markdown",
   "id": "2a1472df",
   "metadata": {},
   "source": [
    "Deriving new column"
   ]
  },
  {
   "cell_type": "markdown",
   "id": "a113b1f6",
   "metadata": {},
   "source": [
    "Determing regional spending habits"
   ]
  },
  {
   "cell_type": "markdown",
   "id": "79eccb4e",
   "metadata": {},
   "source": [
    "Insights"
   ]
  },
  {
   "cell_type": "markdown",
   "id": "c3200897",
   "metadata": {},
   "source": [
    "4) The Instacart CFO isn’t interested in customers who don’t generate much revenue for the app. Create an exclusion flag for low-activity customers (customers with less than 5 orders) and exclude them from the data. Make sure you export this sample."
   ]
  },
  {
   "cell_type": "markdown",
   "id": "f0d8c509",
   "metadata": {},
   "source": [
    "Conditions for exclusion flag"
   ]
  },
  {
   "cell_type": "markdown",
   "id": "7314e959",
   "metadata": {},
   "source": [
    "Create subset with \"activity_flag\" = \"Active customer\""
   ]
  },
  {
   "cell_type": "markdown",
   "id": "e206b898",
   "metadata": {},
   "source": [
    "Create subset with \"activity_flag\" = \"Non-active customer\" "
   ]
  },
  {
   "cell_type": "markdown",
   "id": "697b0a3c",
   "metadata": {},
   "source": [
    "Export \"df_active_cutomers.pkl\""
   ]
  },
  {
   "cell_type": "markdown",
   "id": "ecc52f12",
   "metadata": {},
   "source": [
    "Export \"df_non_active_cutomers.pkl\""
   ]
  },
  {
   "cell_type": "markdown",
   "id": "9675be0e",
   "metadata": {},
   "source": [
    "5) The marketing and business strategy units at Instacart want to create more-relevant marketing strategies for different products and are, thus, curious about customer profiling in their database. Create a profiling variable based on age, income, certain goods in the “department_id” column, and number of dependents. You might also use the “orders_day_of_week” and “order_hour_of_day” columns if you can think of a way they would impact customer profiles. (Hint: As an example, try thinking of what characteristics would lead you to the profile “Single adult” or “Young parent.”)"
   ]
  },
  {
   "cell_type": "markdown",
   "id": "846ce338",
   "metadata": {},
   "source": [
    "Create df excluding customers with <5 orders"
   ]
  },
  {
   "cell_type": "markdown",
   "id": "3a2fe8fe",
   "metadata": {},
   "source": [
    "Analyzing customer age data"
   ]
  },
  {
   "cell_type": "markdown",
   "id": "1853f3a1",
   "metadata": {},
   "source": [
    "Creating age group conditions"
   ]
  },
  {
   "cell_type": "markdown",
   "id": "9414e64e",
   "metadata": {},
   "source": [
    "Analyzing customer income data"
   ]
  },
  {
   "cell_type": "markdown",
   "id": "0880a061",
   "metadata": {},
   "source": [
    "Creating income group conditions by std"
   ]
  },
  {
   "cell_type": "markdown",
   "id": "2ef85873",
   "metadata": {},
   "source": [
    "Import \"departments_wrangled.csv\" dataframe"
   ]
  },
  {
   "cell_type": "markdown",
   "id": "fd56a2b0",
   "metadata": {},
   "source": [
    "Rename Unamed:0 to department_id"
   ]
  },
  {
   "cell_type": "markdown",
   "id": "da242660",
   "metadata": {},
   "source": [
    "Merge df_dept with df_2"
   ]
  },
  {
   "cell_type": "markdown",
   "id": "d81b0422",
   "metadata": {},
   "source": [
    "Create profiling variables"
   ]
  },
  {
   "cell_type": "markdown",
   "id": "c8db3172",
   "metadata": {},
   "source": [
    "Replace NaN with \"None\" so it doesn't look like missing data"
   ]
  },
  {
   "cell_type": "markdown",
   "id": "deda3434",
   "metadata": {},
   "source": [
    "Analyzing customer dependants data"
   ]
  },
  {
   "cell_type": "markdown",
   "id": "c632d8cf",
   "metadata": {},
   "source": [
    "Creating dependant group conditions by std"
   ]
  },
  {
   "cell_type": "markdown",
   "id": "f057f065",
   "metadata": {},
   "source": [
    "Creating family flags"
   ]
  },
  {
   "cell_type": "markdown",
   "id": "a8f7f07b",
   "metadata": {},
   "source": [
    "Analyze family data"
   ]
  },
  {
   "cell_type": "markdown",
   "id": "b3db48ed",
   "metadata": {},
   "source": [
    "Creating family groups"
   ]
  },
  {
   "cell_type": "markdown",
   "id": "1f708d40",
   "metadata": {},
   "source": [
    "Insights"
   ]
  },
  {
   "cell_type": "markdown",
   "id": "e7f483b8",
   "metadata": {},
   "source": [
    "### 04 Export"
   ]
  },
  {
   "cell_type": "markdown",
   "id": "4952e3ee",
   "metadata": {},
   "source": [
    "Export \"df_FINAL.pkl\""
   ]
  },
  {
   "cell_type": "markdown",
   "id": "1993afab",
   "metadata": {},
   "source": [
    "## 01 Import Libraries"
   ]
  },
  {
   "cell_type": "code",
   "execution_count": 1,
   "id": "2dc0f65f",
   "metadata": {},
   "outputs": [],
   "source": [
    "import pandas as pd\n",
    "import numpy as np\n",
    "import os\n",
    "import matplotlib.pyplot as plt\n",
    "import seaborn as sns\n",
    "import scipy"
   ]
  },
  {
   "cell_type": "code",
   "execution_count": 2,
   "id": "d6098dac",
   "metadata": {},
   "outputs": [],
   "source": [
    "# Path Import\n",
    "path = r'/Users/carolinelasersohn/Documents/Documents - Caroline’s MacBook Pro/data analytics/Immersion/4. Python/Instacart Basket Analysis 2023'"
   ]
  },
  {
   "cell_type": "markdown",
   "id": "d403d405",
   "metadata": {},
   "source": [
    "## 02 Import Data"
   ]
  },
  {
   "cell_type": "code",
   "execution_count": 3,
   "id": "f89682d2",
   "metadata": {},
   "outputs": [],
   "source": [
    "# final data import\n",
    "df = pd.read_pickle(os.path.join(path, '02 Data','Prepared Data', 'orders_products_customer_merged.pkl'))"
   ]
  },
  {
   "cell_type": "code",
   "execution_count": 4,
   "id": "6c6c406c",
   "metadata": {},
   "outputs": [
    {
     "data": {
      "text/html": [
       "<div>\n",
       "<style scoped>\n",
       "    .dataframe tbody tr th:only-of-type {\n",
       "        vertical-align: middle;\n",
       "    }\n",
       "\n",
       "    .dataframe tbody tr th {\n",
       "        vertical-align: top;\n",
       "    }\n",
       "\n",
       "    .dataframe thead th {\n",
       "        text-align: right;\n",
       "    }\n",
       "</style>\n",
       "<table border=\"1\" class=\"dataframe\">\n",
       "  <thead>\n",
       "    <tr style=\"text-align: right;\">\n",
       "      <th></th>\n",
       "      <th>order_id</th>\n",
       "      <th>user_id</th>\n",
       "      <th>eval_set</th>\n",
       "      <th>order_number</th>\n",
       "      <th>orders_day_of_week</th>\n",
       "      <th>order_hour_of_day</th>\n",
       "      <th>days_since_prior_order</th>\n",
       "      <th>product_id</th>\n",
       "      <th>add_to_cart_order</th>\n",
       "      <th>reordered</th>\n",
       "      <th>...</th>\n",
       "      <th>order_frequency_flag</th>\n",
       "      <th>first_name</th>\n",
       "      <th>last_name</th>\n",
       "      <th>gender</th>\n",
       "      <th>state</th>\n",
       "      <th>age</th>\n",
       "      <th>date_joined</th>\n",
       "      <th>dependant_count</th>\n",
       "      <th>fam_status</th>\n",
       "      <th>income</th>\n",
       "    </tr>\n",
       "  </thead>\n",
       "  <tbody>\n",
       "    <tr>\n",
       "      <th>0</th>\n",
       "      <td>2539329</td>\n",
       "      <td>1</td>\n",
       "      <td>prior</td>\n",
       "      <td>1</td>\n",
       "      <td>2</td>\n",
       "      <td>8</td>\n",
       "      <td>0.0</td>\n",
       "      <td>196</td>\n",
       "      <td>1</td>\n",
       "      <td>0</td>\n",
       "      <td>...</td>\n",
       "      <td>Regular customer</td>\n",
       "      <td>Linda</td>\n",
       "      <td>Nguyen</td>\n",
       "      <td>Female</td>\n",
       "      <td>Alabama</td>\n",
       "      <td>31</td>\n",
       "      <td>2/17/2019</td>\n",
       "      <td>3</td>\n",
       "      <td>married</td>\n",
       "      <td>40423</td>\n",
       "    </tr>\n",
       "    <tr>\n",
       "      <th>1</th>\n",
       "      <td>2398795</td>\n",
       "      <td>1</td>\n",
       "      <td>prior</td>\n",
       "      <td>2</td>\n",
       "      <td>3</td>\n",
       "      <td>7</td>\n",
       "      <td>15.0</td>\n",
       "      <td>196</td>\n",
       "      <td>1</td>\n",
       "      <td>1</td>\n",
       "      <td>...</td>\n",
       "      <td>Regular customer</td>\n",
       "      <td>Linda</td>\n",
       "      <td>Nguyen</td>\n",
       "      <td>Female</td>\n",
       "      <td>Alabama</td>\n",
       "      <td>31</td>\n",
       "      <td>2/17/2019</td>\n",
       "      <td>3</td>\n",
       "      <td>married</td>\n",
       "      <td>40423</td>\n",
       "    </tr>\n",
       "    <tr>\n",
       "      <th>2</th>\n",
       "      <td>473747</td>\n",
       "      <td>1</td>\n",
       "      <td>prior</td>\n",
       "      <td>3</td>\n",
       "      <td>3</td>\n",
       "      <td>12</td>\n",
       "      <td>21.0</td>\n",
       "      <td>196</td>\n",
       "      <td>1</td>\n",
       "      <td>1</td>\n",
       "      <td>...</td>\n",
       "      <td>Regular customer</td>\n",
       "      <td>Linda</td>\n",
       "      <td>Nguyen</td>\n",
       "      <td>Female</td>\n",
       "      <td>Alabama</td>\n",
       "      <td>31</td>\n",
       "      <td>2/17/2019</td>\n",
       "      <td>3</td>\n",
       "      <td>married</td>\n",
       "      <td>40423</td>\n",
       "    </tr>\n",
       "    <tr>\n",
       "      <th>3</th>\n",
       "      <td>2254736</td>\n",
       "      <td>1</td>\n",
       "      <td>prior</td>\n",
       "      <td>4</td>\n",
       "      <td>4</td>\n",
       "      <td>7</td>\n",
       "      <td>29.0</td>\n",
       "      <td>196</td>\n",
       "      <td>1</td>\n",
       "      <td>1</td>\n",
       "      <td>...</td>\n",
       "      <td>Regular customer</td>\n",
       "      <td>Linda</td>\n",
       "      <td>Nguyen</td>\n",
       "      <td>Female</td>\n",
       "      <td>Alabama</td>\n",
       "      <td>31</td>\n",
       "      <td>2/17/2019</td>\n",
       "      <td>3</td>\n",
       "      <td>married</td>\n",
       "      <td>40423</td>\n",
       "    </tr>\n",
       "    <tr>\n",
       "      <th>4</th>\n",
       "      <td>431534</td>\n",
       "      <td>1</td>\n",
       "      <td>prior</td>\n",
       "      <td>5</td>\n",
       "      <td>4</td>\n",
       "      <td>15</td>\n",
       "      <td>28.0</td>\n",
       "      <td>196</td>\n",
       "      <td>1</td>\n",
       "      <td>1</td>\n",
       "      <td>...</td>\n",
       "      <td>Regular customer</td>\n",
       "      <td>Linda</td>\n",
       "      <td>Nguyen</td>\n",
       "      <td>Female</td>\n",
       "      <td>Alabama</td>\n",
       "      <td>31</td>\n",
       "      <td>2/17/2019</td>\n",
       "      <td>3</td>\n",
       "      <td>married</td>\n",
       "      <td>40423</td>\n",
       "    </tr>\n",
       "  </tbody>\n",
       "</table>\n",
       "<p>5 rows × 34 columns</p>\n",
       "</div>"
      ],
      "text/plain": [
       "   order_id  user_id eval_set  order_number  orders_day_of_week  \\\n",
       "0   2539329        1    prior             1                   2   \n",
       "1   2398795        1    prior             2                   3   \n",
       "2    473747        1    prior             3                   3   \n",
       "3   2254736        1    prior             4                   4   \n",
       "4    431534        1    prior             5                   4   \n",
       "\n",
       "   order_hour_of_day  days_since_prior_order  product_id  add_to_cart_order  \\\n",
       "0                  8                     0.0         196                  1   \n",
       "1                  7                    15.0         196                  1   \n",
       "2                 12                    21.0         196                  1   \n",
       "3                  7                    29.0         196                  1   \n",
       "4                 15                    28.0         196                  1   \n",
       "\n",
       "   reordered  ... order_frequency_flag  first_name  last_name  gender  \\\n",
       "0          0  ...     Regular customer       Linda     Nguyen  Female   \n",
       "1          1  ...     Regular customer       Linda     Nguyen  Female   \n",
       "2          1  ...     Regular customer       Linda     Nguyen  Female   \n",
       "3          1  ...     Regular customer       Linda     Nguyen  Female   \n",
       "4          1  ...     Regular customer       Linda     Nguyen  Female   \n",
       "\n",
       "     state age date_joined dependant_count fam_status  income  \n",
       "0  Alabama  31   2/17/2019               3    married   40423  \n",
       "1  Alabama  31   2/17/2019               3    married   40423  \n",
       "2  Alabama  31   2/17/2019               3    married   40423  \n",
       "3  Alabama  31   2/17/2019               3    married   40423  \n",
       "4  Alabama  31   2/17/2019               3    married   40423  \n",
       "\n",
       "[5 rows x 34 columns]"
      ]
     },
     "execution_count": 4,
     "metadata": {},
     "output_type": "execute_result"
    }
   ],
   "source": [
    "df.head()"
   ]
  },
  {
   "cell_type": "code",
   "execution_count": 5,
   "id": "3a9e7396",
   "metadata": {},
   "outputs": [],
   "source": [
    "# Removing the limit to the amount of columns displayed by default \n",
    "pd.set_option('display.max_columns', None)"
   ]
  },
  {
   "cell_type": "code",
   "execution_count": 6,
   "id": "5bf133f3",
   "metadata": {},
   "outputs": [
    {
     "data": {
      "text/html": [
       "<div>\n",
       "<style scoped>\n",
       "    .dataframe tbody tr th:only-of-type {\n",
       "        vertical-align: middle;\n",
       "    }\n",
       "\n",
       "    .dataframe tbody tr th {\n",
       "        vertical-align: top;\n",
       "    }\n",
       "\n",
       "    .dataframe thead th {\n",
       "        text-align: right;\n",
       "    }\n",
       "</style>\n",
       "<table border=\"1\" class=\"dataframe\">\n",
       "  <thead>\n",
       "    <tr style=\"text-align: right;\">\n",
       "      <th></th>\n",
       "      <th>order_id</th>\n",
       "      <th>user_id</th>\n",
       "      <th>eval_set</th>\n",
       "      <th>order_number</th>\n",
       "      <th>orders_day_of_week</th>\n",
       "      <th>order_hour_of_day</th>\n",
       "      <th>days_since_prior_order</th>\n",
       "      <th>product_id</th>\n",
       "      <th>add_to_cart_order</th>\n",
       "      <th>reordered</th>\n",
       "      <th>product_name</th>\n",
       "      <th>aisle_id</th>\n",
       "      <th>department_id</th>\n",
       "      <th>prices</th>\n",
       "      <th>_merge</th>\n",
       "      <th>price_range_loc</th>\n",
       "      <th>busiest_day</th>\n",
       "      <th>busiest_days</th>\n",
       "      <th>busiest_period_of_day</th>\n",
       "      <th>max_order</th>\n",
       "      <th>loyalty_flag</th>\n",
       "      <th>average_price</th>\n",
       "      <th>spending_flag</th>\n",
       "      <th>median_orders</th>\n",
       "      <th>order_frequency_flag</th>\n",
       "      <th>first_name</th>\n",
       "      <th>last_name</th>\n",
       "      <th>gender</th>\n",
       "      <th>state</th>\n",
       "      <th>age</th>\n",
       "      <th>date_joined</th>\n",
       "      <th>dependant_count</th>\n",
       "      <th>fam_status</th>\n",
       "      <th>income</th>\n",
       "    </tr>\n",
       "  </thead>\n",
       "  <tbody>\n",
       "    <tr>\n",
       "      <th>0</th>\n",
       "      <td>2539329</td>\n",
       "      <td>1</td>\n",
       "      <td>prior</td>\n",
       "      <td>1</td>\n",
       "      <td>2</td>\n",
       "      <td>8</td>\n",
       "      <td>0.0</td>\n",
       "      <td>196</td>\n",
       "      <td>1</td>\n",
       "      <td>0</td>\n",
       "      <td>Soda</td>\n",
       "      <td>77</td>\n",
       "      <td>7</td>\n",
       "      <td>9.0</td>\n",
       "      <td>both</td>\n",
       "      <td>Mid-range product</td>\n",
       "      <td>Regularly busy</td>\n",
       "      <td>Regularly busy</td>\n",
       "      <td>Average orders</td>\n",
       "      <td>10</td>\n",
       "      <td>New customer</td>\n",
       "      <td>6.367797</td>\n",
       "      <td>Low spender</td>\n",
       "      <td>20.0</td>\n",
       "      <td>Regular customer</td>\n",
       "      <td>Linda</td>\n",
       "      <td>Nguyen</td>\n",
       "      <td>Female</td>\n",
       "      <td>Alabama</td>\n",
       "      <td>31</td>\n",
       "      <td>2/17/2019</td>\n",
       "      <td>3</td>\n",
       "      <td>married</td>\n",
       "      <td>40423</td>\n",
       "    </tr>\n",
       "    <tr>\n",
       "      <th>1</th>\n",
       "      <td>2398795</td>\n",
       "      <td>1</td>\n",
       "      <td>prior</td>\n",
       "      <td>2</td>\n",
       "      <td>3</td>\n",
       "      <td>7</td>\n",
       "      <td>15.0</td>\n",
       "      <td>196</td>\n",
       "      <td>1</td>\n",
       "      <td>1</td>\n",
       "      <td>Soda</td>\n",
       "      <td>77</td>\n",
       "      <td>7</td>\n",
       "      <td>9.0</td>\n",
       "      <td>both</td>\n",
       "      <td>Mid-range product</td>\n",
       "      <td>Regularly busy</td>\n",
       "      <td>Least busy days</td>\n",
       "      <td>Average orders</td>\n",
       "      <td>10</td>\n",
       "      <td>New customer</td>\n",
       "      <td>6.367797</td>\n",
       "      <td>Low spender</td>\n",
       "      <td>20.0</td>\n",
       "      <td>Regular customer</td>\n",
       "      <td>Linda</td>\n",
       "      <td>Nguyen</td>\n",
       "      <td>Female</td>\n",
       "      <td>Alabama</td>\n",
       "      <td>31</td>\n",
       "      <td>2/17/2019</td>\n",
       "      <td>3</td>\n",
       "      <td>married</td>\n",
       "      <td>40423</td>\n",
       "    </tr>\n",
       "    <tr>\n",
       "      <th>2</th>\n",
       "      <td>473747</td>\n",
       "      <td>1</td>\n",
       "      <td>prior</td>\n",
       "      <td>3</td>\n",
       "      <td>3</td>\n",
       "      <td>12</td>\n",
       "      <td>21.0</td>\n",
       "      <td>196</td>\n",
       "      <td>1</td>\n",
       "      <td>1</td>\n",
       "      <td>Soda</td>\n",
       "      <td>77</td>\n",
       "      <td>7</td>\n",
       "      <td>9.0</td>\n",
       "      <td>both</td>\n",
       "      <td>Mid-range product</td>\n",
       "      <td>Regularly busy</td>\n",
       "      <td>Least busy days</td>\n",
       "      <td>Most orders</td>\n",
       "      <td>10</td>\n",
       "      <td>New customer</td>\n",
       "      <td>6.367797</td>\n",
       "      <td>Low spender</td>\n",
       "      <td>20.0</td>\n",
       "      <td>Regular customer</td>\n",
       "      <td>Linda</td>\n",
       "      <td>Nguyen</td>\n",
       "      <td>Female</td>\n",
       "      <td>Alabama</td>\n",
       "      <td>31</td>\n",
       "      <td>2/17/2019</td>\n",
       "      <td>3</td>\n",
       "      <td>married</td>\n",
       "      <td>40423</td>\n",
       "    </tr>\n",
       "    <tr>\n",
       "      <th>3</th>\n",
       "      <td>2254736</td>\n",
       "      <td>1</td>\n",
       "      <td>prior</td>\n",
       "      <td>4</td>\n",
       "      <td>4</td>\n",
       "      <td>7</td>\n",
       "      <td>29.0</td>\n",
       "      <td>196</td>\n",
       "      <td>1</td>\n",
       "      <td>1</td>\n",
       "      <td>Soda</td>\n",
       "      <td>77</td>\n",
       "      <td>7</td>\n",
       "      <td>9.0</td>\n",
       "      <td>both</td>\n",
       "      <td>Mid-range product</td>\n",
       "      <td>Least busy</td>\n",
       "      <td>Least busy days</td>\n",
       "      <td>Average orders</td>\n",
       "      <td>10</td>\n",
       "      <td>New customer</td>\n",
       "      <td>6.367797</td>\n",
       "      <td>Low spender</td>\n",
       "      <td>20.0</td>\n",
       "      <td>Regular customer</td>\n",
       "      <td>Linda</td>\n",
       "      <td>Nguyen</td>\n",
       "      <td>Female</td>\n",
       "      <td>Alabama</td>\n",
       "      <td>31</td>\n",
       "      <td>2/17/2019</td>\n",
       "      <td>3</td>\n",
       "      <td>married</td>\n",
       "      <td>40423</td>\n",
       "    </tr>\n",
       "    <tr>\n",
       "      <th>4</th>\n",
       "      <td>431534</td>\n",
       "      <td>1</td>\n",
       "      <td>prior</td>\n",
       "      <td>5</td>\n",
       "      <td>4</td>\n",
       "      <td>15</td>\n",
       "      <td>28.0</td>\n",
       "      <td>196</td>\n",
       "      <td>1</td>\n",
       "      <td>1</td>\n",
       "      <td>Soda</td>\n",
       "      <td>77</td>\n",
       "      <td>7</td>\n",
       "      <td>9.0</td>\n",
       "      <td>both</td>\n",
       "      <td>Mid-range product</td>\n",
       "      <td>Least busy</td>\n",
       "      <td>Least busy days</td>\n",
       "      <td>Most orders</td>\n",
       "      <td>10</td>\n",
       "      <td>New customer</td>\n",
       "      <td>6.367797</td>\n",
       "      <td>Low spender</td>\n",
       "      <td>20.0</td>\n",
       "      <td>Regular customer</td>\n",
       "      <td>Linda</td>\n",
       "      <td>Nguyen</td>\n",
       "      <td>Female</td>\n",
       "      <td>Alabama</td>\n",
       "      <td>31</td>\n",
       "      <td>2/17/2019</td>\n",
       "      <td>3</td>\n",
       "      <td>married</td>\n",
       "      <td>40423</td>\n",
       "    </tr>\n",
       "  </tbody>\n",
       "</table>\n",
       "</div>"
      ],
      "text/plain": [
       "   order_id  user_id eval_set  order_number  orders_day_of_week  \\\n",
       "0   2539329        1    prior             1                   2   \n",
       "1   2398795        1    prior             2                   3   \n",
       "2    473747        1    prior             3                   3   \n",
       "3   2254736        1    prior             4                   4   \n",
       "4    431534        1    prior             5                   4   \n",
       "\n",
       "   order_hour_of_day  days_since_prior_order  product_id  add_to_cart_order  \\\n",
       "0                  8                     0.0         196                  1   \n",
       "1                  7                    15.0         196                  1   \n",
       "2                 12                    21.0         196                  1   \n",
       "3                  7                    29.0         196                  1   \n",
       "4                 15                    28.0         196                  1   \n",
       "\n",
       "   reordered product_name  aisle_id  department_id  prices _merge  \\\n",
       "0          0         Soda        77              7     9.0   both   \n",
       "1          1         Soda        77              7     9.0   both   \n",
       "2          1         Soda        77              7     9.0   both   \n",
       "3          1         Soda        77              7     9.0   both   \n",
       "4          1         Soda        77              7     9.0   both   \n",
       "\n",
       "     price_range_loc     busiest_day     busiest_days busiest_period_of_day  \\\n",
       "0  Mid-range product  Regularly busy   Regularly busy        Average orders   \n",
       "1  Mid-range product  Regularly busy  Least busy days        Average orders   \n",
       "2  Mid-range product  Regularly busy  Least busy days           Most orders   \n",
       "3  Mid-range product      Least busy  Least busy days        Average orders   \n",
       "4  Mid-range product      Least busy  Least busy days           Most orders   \n",
       "\n",
       "   max_order  loyalty_flag  average_price spending_flag  median_orders  \\\n",
       "0         10  New customer       6.367797   Low spender           20.0   \n",
       "1         10  New customer       6.367797   Low spender           20.0   \n",
       "2         10  New customer       6.367797   Low spender           20.0   \n",
       "3         10  New customer       6.367797   Low spender           20.0   \n",
       "4         10  New customer       6.367797   Low spender           20.0   \n",
       "\n",
       "  order_frequency_flag first_name last_name  gender    state  age date_joined  \\\n",
       "0     Regular customer      Linda    Nguyen  Female  Alabama   31   2/17/2019   \n",
       "1     Regular customer      Linda    Nguyen  Female  Alabama   31   2/17/2019   \n",
       "2     Regular customer      Linda    Nguyen  Female  Alabama   31   2/17/2019   \n",
       "3     Regular customer      Linda    Nguyen  Female  Alabama   31   2/17/2019   \n",
       "4     Regular customer      Linda    Nguyen  Female  Alabama   31   2/17/2019   \n",
       "\n",
       "   dependant_count fam_status  income  \n",
       "0                3    married   40423  \n",
       "1                3    married   40423  \n",
       "2                3    married   40423  \n",
       "3                3    married   40423  \n",
       "4                3    married   40423  "
      ]
     },
     "execution_count": 6,
     "metadata": {},
     "output_type": "execute_result"
    }
   ],
   "source": [
    "df.head()"
   ]
  },
  {
   "cell_type": "code",
   "execution_count": 7,
   "id": "a196f593",
   "metadata": {},
   "outputs": [],
   "source": [
    "# Dropping eval_set\n",
    "df = df.drop(columns = ['eval_set'])"
   ]
  },
  {
   "cell_type": "code",
   "execution_count": 8,
   "id": "88a5f25f",
   "metadata": {},
   "outputs": [],
   "source": [
    "# Dropping _merge\n",
    "df = df.drop(columns = ['_merge'])"
   ]
  },
  {
   "cell_type": "markdown",
   "id": "216107d3",
   "metadata": {},
   "source": [
    "## 03 Task 4.10"
   ]
  },
  {
   "cell_type": "markdown",
   "id": "dcad8ade",
   "metadata": {},
   "source": [
    "## 2"
   ]
  },
  {
   "cell_type": "markdown",
   "id": "b60712db",
   "metadata": {},
   "source": [
    "Consider any security implications that might exist for this new data. You’ll need to address any PII data in the data before continuing your analysis."
   ]
  },
  {
   "cell_type": "code",
   "execution_count": 9,
   "id": "8859b209",
   "metadata": {},
   "outputs": [],
   "source": [
    "# Dropping first_name & last_name\n",
    "df = df.drop(['first_name', 'last_name'], axis=1)"
   ]
  },
  {
   "cell_type": "code",
   "execution_count": 10,
   "id": "cfa1f0f2",
   "metadata": {},
   "outputs": [
    {
     "data": {
      "text/html": [
       "<div>\n",
       "<style scoped>\n",
       "    .dataframe tbody tr th:only-of-type {\n",
       "        vertical-align: middle;\n",
       "    }\n",
       "\n",
       "    .dataframe tbody tr th {\n",
       "        vertical-align: top;\n",
       "    }\n",
       "\n",
       "    .dataframe thead th {\n",
       "        text-align: right;\n",
       "    }\n",
       "</style>\n",
       "<table border=\"1\" class=\"dataframe\">\n",
       "  <thead>\n",
       "    <tr style=\"text-align: right;\">\n",
       "      <th></th>\n",
       "      <th>order_id</th>\n",
       "      <th>user_id</th>\n",
       "      <th>order_number</th>\n",
       "      <th>orders_day_of_week</th>\n",
       "      <th>order_hour_of_day</th>\n",
       "      <th>days_since_prior_order</th>\n",
       "      <th>product_id</th>\n",
       "      <th>add_to_cart_order</th>\n",
       "      <th>reordered</th>\n",
       "      <th>product_name</th>\n",
       "      <th>aisle_id</th>\n",
       "      <th>department_id</th>\n",
       "      <th>prices</th>\n",
       "      <th>price_range_loc</th>\n",
       "      <th>busiest_day</th>\n",
       "      <th>busiest_days</th>\n",
       "      <th>busiest_period_of_day</th>\n",
       "      <th>max_order</th>\n",
       "      <th>loyalty_flag</th>\n",
       "      <th>average_price</th>\n",
       "      <th>spending_flag</th>\n",
       "      <th>median_orders</th>\n",
       "      <th>order_frequency_flag</th>\n",
       "      <th>gender</th>\n",
       "      <th>state</th>\n",
       "      <th>age</th>\n",
       "      <th>date_joined</th>\n",
       "      <th>dependant_count</th>\n",
       "      <th>fam_status</th>\n",
       "      <th>income</th>\n",
       "    </tr>\n",
       "  </thead>\n",
       "  <tbody>\n",
       "    <tr>\n",
       "      <th>0</th>\n",
       "      <td>2539329</td>\n",
       "      <td>1</td>\n",
       "      <td>1</td>\n",
       "      <td>2</td>\n",
       "      <td>8</td>\n",
       "      <td>0.0</td>\n",
       "      <td>196</td>\n",
       "      <td>1</td>\n",
       "      <td>0</td>\n",
       "      <td>Soda</td>\n",
       "      <td>77</td>\n",
       "      <td>7</td>\n",
       "      <td>9.0</td>\n",
       "      <td>Mid-range product</td>\n",
       "      <td>Regularly busy</td>\n",
       "      <td>Regularly busy</td>\n",
       "      <td>Average orders</td>\n",
       "      <td>10</td>\n",
       "      <td>New customer</td>\n",
       "      <td>6.367797</td>\n",
       "      <td>Low spender</td>\n",
       "      <td>20.0</td>\n",
       "      <td>Regular customer</td>\n",
       "      <td>Female</td>\n",
       "      <td>Alabama</td>\n",
       "      <td>31</td>\n",
       "      <td>2/17/2019</td>\n",
       "      <td>3</td>\n",
       "      <td>married</td>\n",
       "      <td>40423</td>\n",
       "    </tr>\n",
       "    <tr>\n",
       "      <th>1</th>\n",
       "      <td>2398795</td>\n",
       "      <td>1</td>\n",
       "      <td>2</td>\n",
       "      <td>3</td>\n",
       "      <td>7</td>\n",
       "      <td>15.0</td>\n",
       "      <td>196</td>\n",
       "      <td>1</td>\n",
       "      <td>1</td>\n",
       "      <td>Soda</td>\n",
       "      <td>77</td>\n",
       "      <td>7</td>\n",
       "      <td>9.0</td>\n",
       "      <td>Mid-range product</td>\n",
       "      <td>Regularly busy</td>\n",
       "      <td>Least busy days</td>\n",
       "      <td>Average orders</td>\n",
       "      <td>10</td>\n",
       "      <td>New customer</td>\n",
       "      <td>6.367797</td>\n",
       "      <td>Low spender</td>\n",
       "      <td>20.0</td>\n",
       "      <td>Regular customer</td>\n",
       "      <td>Female</td>\n",
       "      <td>Alabama</td>\n",
       "      <td>31</td>\n",
       "      <td>2/17/2019</td>\n",
       "      <td>3</td>\n",
       "      <td>married</td>\n",
       "      <td>40423</td>\n",
       "    </tr>\n",
       "    <tr>\n",
       "      <th>2</th>\n",
       "      <td>473747</td>\n",
       "      <td>1</td>\n",
       "      <td>3</td>\n",
       "      <td>3</td>\n",
       "      <td>12</td>\n",
       "      <td>21.0</td>\n",
       "      <td>196</td>\n",
       "      <td>1</td>\n",
       "      <td>1</td>\n",
       "      <td>Soda</td>\n",
       "      <td>77</td>\n",
       "      <td>7</td>\n",
       "      <td>9.0</td>\n",
       "      <td>Mid-range product</td>\n",
       "      <td>Regularly busy</td>\n",
       "      <td>Least busy days</td>\n",
       "      <td>Most orders</td>\n",
       "      <td>10</td>\n",
       "      <td>New customer</td>\n",
       "      <td>6.367797</td>\n",
       "      <td>Low spender</td>\n",
       "      <td>20.0</td>\n",
       "      <td>Regular customer</td>\n",
       "      <td>Female</td>\n",
       "      <td>Alabama</td>\n",
       "      <td>31</td>\n",
       "      <td>2/17/2019</td>\n",
       "      <td>3</td>\n",
       "      <td>married</td>\n",
       "      <td>40423</td>\n",
       "    </tr>\n",
       "    <tr>\n",
       "      <th>3</th>\n",
       "      <td>2254736</td>\n",
       "      <td>1</td>\n",
       "      <td>4</td>\n",
       "      <td>4</td>\n",
       "      <td>7</td>\n",
       "      <td>29.0</td>\n",
       "      <td>196</td>\n",
       "      <td>1</td>\n",
       "      <td>1</td>\n",
       "      <td>Soda</td>\n",
       "      <td>77</td>\n",
       "      <td>7</td>\n",
       "      <td>9.0</td>\n",
       "      <td>Mid-range product</td>\n",
       "      <td>Least busy</td>\n",
       "      <td>Least busy days</td>\n",
       "      <td>Average orders</td>\n",
       "      <td>10</td>\n",
       "      <td>New customer</td>\n",
       "      <td>6.367797</td>\n",
       "      <td>Low spender</td>\n",
       "      <td>20.0</td>\n",
       "      <td>Regular customer</td>\n",
       "      <td>Female</td>\n",
       "      <td>Alabama</td>\n",
       "      <td>31</td>\n",
       "      <td>2/17/2019</td>\n",
       "      <td>3</td>\n",
       "      <td>married</td>\n",
       "      <td>40423</td>\n",
       "    </tr>\n",
       "    <tr>\n",
       "      <th>4</th>\n",
       "      <td>431534</td>\n",
       "      <td>1</td>\n",
       "      <td>5</td>\n",
       "      <td>4</td>\n",
       "      <td>15</td>\n",
       "      <td>28.0</td>\n",
       "      <td>196</td>\n",
       "      <td>1</td>\n",
       "      <td>1</td>\n",
       "      <td>Soda</td>\n",
       "      <td>77</td>\n",
       "      <td>7</td>\n",
       "      <td>9.0</td>\n",
       "      <td>Mid-range product</td>\n",
       "      <td>Least busy</td>\n",
       "      <td>Least busy days</td>\n",
       "      <td>Most orders</td>\n",
       "      <td>10</td>\n",
       "      <td>New customer</td>\n",
       "      <td>6.367797</td>\n",
       "      <td>Low spender</td>\n",
       "      <td>20.0</td>\n",
       "      <td>Regular customer</td>\n",
       "      <td>Female</td>\n",
       "      <td>Alabama</td>\n",
       "      <td>31</td>\n",
       "      <td>2/17/2019</td>\n",
       "      <td>3</td>\n",
       "      <td>married</td>\n",
       "      <td>40423</td>\n",
       "    </tr>\n",
       "  </tbody>\n",
       "</table>\n",
       "</div>"
      ],
      "text/plain": [
       "   order_id  user_id  order_number  orders_day_of_week  order_hour_of_day  \\\n",
       "0   2539329        1             1                   2                  8   \n",
       "1   2398795        1             2                   3                  7   \n",
       "2    473747        1             3                   3                 12   \n",
       "3   2254736        1             4                   4                  7   \n",
       "4    431534        1             5                   4                 15   \n",
       "\n",
       "   days_since_prior_order  product_id  add_to_cart_order  reordered  \\\n",
       "0                     0.0         196                  1          0   \n",
       "1                    15.0         196                  1          1   \n",
       "2                    21.0         196                  1          1   \n",
       "3                    29.0         196                  1          1   \n",
       "4                    28.0         196                  1          1   \n",
       "\n",
       "  product_name  aisle_id  department_id  prices    price_range_loc  \\\n",
       "0         Soda        77              7     9.0  Mid-range product   \n",
       "1         Soda        77              7     9.0  Mid-range product   \n",
       "2         Soda        77              7     9.0  Mid-range product   \n",
       "3         Soda        77              7     9.0  Mid-range product   \n",
       "4         Soda        77              7     9.0  Mid-range product   \n",
       "\n",
       "      busiest_day     busiest_days busiest_period_of_day  max_order  \\\n",
       "0  Regularly busy   Regularly busy        Average orders         10   \n",
       "1  Regularly busy  Least busy days        Average orders         10   \n",
       "2  Regularly busy  Least busy days           Most orders         10   \n",
       "3      Least busy  Least busy days        Average orders         10   \n",
       "4      Least busy  Least busy days           Most orders         10   \n",
       "\n",
       "   loyalty_flag  average_price spending_flag  median_orders  \\\n",
       "0  New customer       6.367797   Low spender           20.0   \n",
       "1  New customer       6.367797   Low spender           20.0   \n",
       "2  New customer       6.367797   Low spender           20.0   \n",
       "3  New customer       6.367797   Low spender           20.0   \n",
       "4  New customer       6.367797   Low spender           20.0   \n",
       "\n",
       "  order_frequency_flag  gender    state  age date_joined  dependant_count  \\\n",
       "0     Regular customer  Female  Alabama   31   2/17/2019                3   \n",
       "1     Regular customer  Female  Alabama   31   2/17/2019                3   \n",
       "2     Regular customer  Female  Alabama   31   2/17/2019                3   \n",
       "3     Regular customer  Female  Alabama   31   2/17/2019                3   \n",
       "4     Regular customer  Female  Alabama   31   2/17/2019                3   \n",
       "\n",
       "  fam_status  income  \n",
       "0    married   40423  \n",
       "1    married   40423  \n",
       "2    married   40423  \n",
       "3    married   40423  \n",
       "4    married   40423  "
      ]
     },
     "execution_count": 10,
     "metadata": {},
     "output_type": "execute_result"
    }
   ],
   "source": [
    "df.head()"
   ]
  },
  {
   "cell_type": "markdown",
   "id": "848d3d4d",
   "metadata": {},
   "source": [
    "## 3"
   ]
  },
  {
   "cell_type": "markdown",
   "id": "446d0a7d",
   "metadata": {},
   "source": [
    "- Need to create a “Region” column based on the “State” column from your customers data set.\n",
    "- Use the region information in this Wikipedia article to create your column (you only need to create regions, not divisions)\n",
    "- Determine whether there’s a difference in spending habits between the different U.S. regions. (Hint: You can do this by crossing the variable you just created with the spending flag.)"
   ]
  },
  {
   "cell_type": "markdown",
   "id": "8cf06776",
   "metadata": {},
   "source": [
    "### Create the regions"
   ]
  },
  {
   "cell_type": "code",
   "execution_count": 11,
   "id": "13675b37",
   "metadata": {},
   "outputs": [],
   "source": [
    "West = ['Idaho', 'Montana', 'Wyoming', 'Nevada', 'Utah', 'Colorado', 'Arizona', 'New Mexico', 'Alaska', 'Washington', 'Oregon', 'California', 'Hawaii']"
   ]
  },
  {
   "cell_type": "code",
   "execution_count": 12,
   "id": "0a1b6694",
   "metadata": {},
   "outputs": [],
   "source": [
    "South = ['Delaware', 'Maryland', 'District of Columbia', 'Virginia', 'West Virginia', 'North Carolina', 'South Carolina', 'Georgia', 'Florida', 'Kentucky', 'Tennessee', 'Mississippi', 'Alabama', 'Oklahoma', 'Texas', 'Arkansas', 'Louisiana']"
   ]
  },
  {
   "cell_type": "code",
   "execution_count": 13,
   "id": "566ecf68",
   "metadata": {},
   "outputs": [],
   "source": [
    "Midwest = ['Wisconsin', 'Michigan', 'Illinois', 'Indiana', 'Ohio', 'North Dakota', 'South Dakota', 'Nebraska', 'Kansas', 'Minnesota', 'Iowa', 'Missouri']"
   ]
  },
  {
   "cell_type": "code",
   "execution_count": 14,
   "id": "e7f5a559",
   "metadata": {},
   "outputs": [],
   "source": [
    "Northeast = ['Maine', 'New Hampshire', 'Vermont', 'Massachusetts', 'Rhode Island', 'Connecticut', 'New York', 'Pennsylvania', 'New Jersey']"
   ]
  },
  {
   "cell_type": "markdown",
   "id": "068be5fc",
   "metadata": {},
   "source": [
    "### Deriving new column"
   ]
  },
  {
   "cell_type": "code",
   "execution_count": 15,
   "id": "4be3b2fc",
   "metadata": {},
   "outputs": [],
   "source": [
    "df.loc[df['state'].isin(West), 'region'] = 'West'"
   ]
  },
  {
   "cell_type": "code",
   "execution_count": 16,
   "id": "53d45182",
   "metadata": {},
   "outputs": [],
   "source": [
    "df.loc[df['state'].isin(South), 'region'] = 'South'"
   ]
  },
  {
   "cell_type": "code",
   "execution_count": 17,
   "id": "2632cfea",
   "metadata": {},
   "outputs": [],
   "source": [
    "df.loc[df['state'].isin(Midwest), 'region'] = 'Midwest'"
   ]
  },
  {
   "cell_type": "code",
   "execution_count": 18,
   "id": "54cf5353",
   "metadata": {},
   "outputs": [],
   "source": [
    "df.loc[df['state'].isin(Northeast), 'region'] = 'Northeast'"
   ]
  },
  {
   "cell_type": "code",
   "execution_count": 19,
   "id": "702d69ea",
   "metadata": {},
   "outputs": [
    {
     "name": "stdout",
     "output_type": "stream",
     "text": [
      "<class 'pandas.core.frame.DataFrame'>\n",
      "RangeIndex: 32404859 entries, 0 to 32404858\n",
      "Data columns (total 31 columns):\n",
      " #   Column                  Dtype  \n",
      "---  ------                  -----  \n",
      " 0   order_id                int64  \n",
      " 1   user_id                 int64  \n",
      " 2   order_number            int64  \n",
      " 3   orders_day_of_week      int64  \n",
      " 4   order_hour_of_day       int64  \n",
      " 5   days_since_prior_order  float64\n",
      " 6   product_id              int64  \n",
      " 7   add_to_cart_order       int64  \n",
      " 8   reordered               int64  \n",
      " 9   product_name            object \n",
      " 10  aisle_id                int64  \n",
      " 11  department_id           int64  \n",
      " 12  prices                  float64\n",
      " 13  price_range_loc         object \n",
      " 14  busiest_day             object \n",
      " 15  busiest_days            object \n",
      " 16  busiest_period_of_day   object \n",
      " 17  max_order               int64  \n",
      " 18  loyalty_flag            object \n",
      " 19  average_price           float64\n",
      " 20  spending_flag           object \n",
      " 21  median_orders           float64\n",
      " 22  order_frequency_flag    object \n",
      " 23  gender                  object \n",
      " 24  state                   object \n",
      " 25  age                     int64  \n",
      " 26  date_joined             object \n",
      " 27  dependant_count         int64  \n",
      " 28  fam_status              object \n",
      " 29  income                  int64  \n",
      " 30  region                  object \n",
      "dtypes: float64(4), int64(14), object(13)\n",
      "memory usage: 7.5+ GB\n"
     ]
    }
   ],
   "source": [
    "df.info()"
   ]
  },
  {
   "cell_type": "code",
   "execution_count": 20,
   "id": "61a8f206",
   "metadata": {},
   "outputs": [
    {
     "data": {
      "text/plain": [
       "region\n",
       "South        10791885\n",
       "West          8292913\n",
       "Midwest       7597325\n",
       "Northeast     5722736\n",
       "Name: count, dtype: int64"
      ]
     },
     "execution_count": 20,
     "metadata": {},
     "output_type": "execute_result"
    }
   ],
   "source": [
    "df['region'].value_counts(dropna = False)"
   ]
  },
  {
   "cell_type": "code",
   "execution_count": 21,
   "id": "754a2947",
   "metadata": {},
   "outputs": [
    {
     "data": {
      "text/plain": [
       "32404859"
      ]
     },
     "execution_count": 21,
     "metadata": {},
     "output_type": "execute_result"
    }
   ],
   "source": [
    "10791885 + 8292913 + 7597325 + 5722736"
   ]
  },
  {
   "cell_type": "markdown",
   "id": "066387df",
   "metadata": {},
   "source": [
    "### Determing regional spending habits"
   ]
  },
  {
   "cell_type": "code",
   "execution_count": 22,
   "id": "b0c65f9a",
   "metadata": {},
   "outputs": [],
   "source": [
    "crosstab = pd.crosstab(df['region'], df['spending_flag'], dropna = False)"
   ]
  },
  {
   "cell_type": "code",
   "execution_count": 23,
   "id": "54d9ab48",
   "metadata": {},
   "outputs": [
    {
     "data": {
      "text/html": [
       "<div>\n",
       "<style scoped>\n",
       "    .dataframe tbody tr th:only-of-type {\n",
       "        vertical-align: middle;\n",
       "    }\n",
       "\n",
       "    .dataframe tbody tr th {\n",
       "        vertical-align: top;\n",
       "    }\n",
       "\n",
       "    .dataframe thead th {\n",
       "        text-align: right;\n",
       "    }\n",
       "</style>\n",
       "<table border=\"1\" class=\"dataframe\">\n",
       "  <thead>\n",
       "    <tr style=\"text-align: right;\">\n",
       "      <th>spending_flag</th>\n",
       "      <th>High spender</th>\n",
       "      <th>Low spender</th>\n",
       "    </tr>\n",
       "    <tr>\n",
       "      <th>region</th>\n",
       "      <th></th>\n",
       "      <th></th>\n",
       "    </tr>\n",
       "  </thead>\n",
       "  <tbody>\n",
       "    <tr>\n",
       "      <th>Midwest</th>\n",
       "      <td>155975</td>\n",
       "      <td>7441350</td>\n",
       "    </tr>\n",
       "    <tr>\n",
       "      <th>Northeast</th>\n",
       "      <td>108225</td>\n",
       "      <td>5614511</td>\n",
       "    </tr>\n",
       "    <tr>\n",
       "      <th>South</th>\n",
       "      <td>209691</td>\n",
       "      <td>10582194</td>\n",
       "    </tr>\n",
       "    <tr>\n",
       "      <th>West</th>\n",
       "      <td>160354</td>\n",
       "      <td>8132559</td>\n",
       "    </tr>\n",
       "  </tbody>\n",
       "</table>\n",
       "</div>"
      ],
      "text/plain": [
       "spending_flag  High spender  Low spender\n",
       "region                                  \n",
       "Midwest              155975      7441350\n",
       "Northeast            108225      5614511\n",
       "South                209691     10582194\n",
       "West                 160354      8132559"
      ]
     },
     "execution_count": 23,
     "metadata": {},
     "output_type": "execute_result"
    }
   ],
   "source": [
    "crosstab"
   ]
  },
  {
   "cell_type": "markdown",
   "id": "659659a6",
   "metadata": {},
   "source": [
    "### Insights"
   ]
  },
  {
   "cell_type": "code",
   "execution_count": 24,
   "id": "01f3cc36",
   "metadata": {},
   "outputs": [
    {
     "data": {
      "text/plain": [
       "23.445017921540718"
      ]
     },
     "execution_count": 24,
     "metadata": {},
     "output_type": "execute_result"
    }
   ],
   "source": [
    "# midwest market share\n",
    "7597325/32404859 * 100"
   ]
  },
  {
   "cell_type": "code",
   "execution_count": 25,
   "id": "35ab1e7d",
   "metadata": {},
   "outputs": [
    {
     "data": {
      "text/plain": [
       "2.053025242437305"
      ]
     },
     "execution_count": 25,
     "metadata": {},
     "output_type": "execute_result"
    }
   ],
   "source": [
    "# midwest high spender %\n",
    "155975/7597325 * 100"
   ]
  },
  {
   "cell_type": "code",
   "execution_count": 26,
   "id": "d83c479f",
   "metadata": {},
   "outputs": [
    {
     "data": {
      "text/plain": [
       "97.9469747575627"
      ]
     },
     "execution_count": 26,
     "metadata": {},
     "output_type": "execute_result"
    }
   ],
   "source": [
    "# midwest low spender %\n",
    "7441350/7597325 * 100"
   ]
  },
  {
   "cell_type": "code",
   "execution_count": 27,
   "id": "c4219d05",
   "metadata": {},
   "outputs": [
    {
     "data": {
      "text/plain": [
       "17.66011695962016"
      ]
     },
     "execution_count": 27,
     "metadata": {},
     "output_type": "execute_result"
    }
   ],
   "source": [
    "# northeast market share\n",
    "5722736/32404859 * 100"
   ]
  },
  {
   "cell_type": "code",
   "execution_count": 28,
   "id": "f131e0eb",
   "metadata": {},
   "outputs": [
    {
     "data": {
      "text/plain": [
       "1.8911408808653762"
      ]
     },
     "execution_count": 28,
     "metadata": {},
     "output_type": "execute_result"
    }
   ],
   "source": [
    "# northeast high spender %\n",
    "(108225/5722736) * 100"
   ]
  },
  {
   "cell_type": "code",
   "execution_count": 29,
   "id": "8614ba45",
   "metadata": {},
   "outputs": [
    {
     "data": {
      "text/plain": [
       "98.10885911913462"
      ]
     },
     "execution_count": 29,
     "metadata": {},
     "output_type": "execute_result"
    }
   ],
   "source": [
    "# northeast low spender %\n",
    "(5614511/5722736) * 100"
   ]
  },
  {
   "cell_type": "code",
   "execution_count": 30,
   "id": "faf9edcb",
   "metadata": {},
   "outputs": [
    {
     "data": {
      "text/plain": [
       "33.30329257103079"
      ]
     },
     "execution_count": 30,
     "metadata": {},
     "output_type": "execute_result"
    }
   ],
   "source": [
    "# south market share\n",
    "10791885/32404859 * 100"
   ]
  },
  {
   "cell_type": "code",
   "execution_count": 31,
   "id": "6d7fdf6d",
   "metadata": {},
   "outputs": [
    {
     "data": {
      "text/plain": [
       "1.9430433144904713"
      ]
     },
     "execution_count": 31,
     "metadata": {},
     "output_type": "execute_result"
    }
   ],
   "source": [
    "# south high spender %\n",
    "(209691/10791885) * 100"
   ]
  },
  {
   "cell_type": "code",
   "execution_count": 32,
   "id": "7ea739a8",
   "metadata": {},
   "outputs": [
    {
     "data": {
      "text/plain": [
       "98.05695668550953"
      ]
     },
     "execution_count": 32,
     "metadata": {},
     "output_type": "execute_result"
    }
   ],
   "source": [
    "# south low spender %\n",
    "(10582194/10791885) * 100"
   ]
  },
  {
   "cell_type": "code",
   "execution_count": 33,
   "id": "2d0bd942",
   "metadata": {},
   "outputs": [
    {
     "data": {
      "text/plain": [
       "25.59157254780834"
      ]
     },
     "execution_count": 33,
     "metadata": {},
     "output_type": "execute_result"
    }
   ],
   "source": [
    "# west market share\n",
    "8292913/32404859 * 100"
   ]
  },
  {
   "cell_type": "code",
   "execution_count": 34,
   "id": "bd6c2c0e",
   "metadata": {},
   "outputs": [
    {
     "data": {
      "text/plain": [
       "1.9336269414619447"
      ]
     },
     "execution_count": 34,
     "metadata": {},
     "output_type": "execute_result"
    }
   ],
   "source": [
    "# west high spender %\n",
    "(160354/8292913) * 100"
   ]
  },
  {
   "cell_type": "code",
   "execution_count": 35,
   "id": "7f807098",
   "metadata": {},
   "outputs": [
    {
     "data": {
      "text/plain": [
       "98.06637305853806"
      ]
     },
     "execution_count": 35,
     "metadata": {},
     "output_type": "execute_result"
    }
   ],
   "source": [
    "# west low spender %\n",
    "(8132559/8292913) * 100"
   ]
  },
  {
   "cell_type": "markdown",
   "id": "ef35d456",
   "metadata": {},
   "source": [
    "- spending habits are practically identical in terms of high and low spenders\n",
    "- South has the largest market share (33%), followed by West (26%), then Midwest (23%) and finally Northeast (18%)"
   ]
  },
  {
   "cell_type": "markdown",
   "id": "758e1504",
   "metadata": {},
   "source": [
    "## 4"
   ]
  },
  {
   "cell_type": "markdown",
   "id": "1e96a520",
   "metadata": {},
   "source": [
    "The Instacart CFO isn’t interested in customers who don’t generate much revenue for the app. Create an exclusion flag for low-activity customers (customers with less than 5 orders) and exclude them from the data. Make sure you export this sample."
   ]
  },
  {
   "cell_type": "code",
   "execution_count": 36,
   "id": "8ac1b10c",
   "metadata": {},
   "outputs": [],
   "source": [
    "# conditions for exclusion flag\n",
    "df.loc[df['max_order'] >= 5, 'activity_flag'] = 'Active customer'\n",
    "df.loc[df['max_order'] < 5, 'activity_flag'] = 'Non-active customer'"
   ]
  },
  {
   "cell_type": "code",
   "execution_count": 37,
   "id": "2d7a6f87",
   "metadata": {},
   "outputs": [
    {
     "data": {
      "text/plain": [
       "activity_flag\n",
       "Active customer        30964564\n",
       "Non-active customer     1440295\n",
       "Name: count, dtype: int64"
      ]
     },
     "execution_count": 37,
     "metadata": {},
     "output_type": "execute_result"
    }
   ],
   "source": [
    "df['activity_flag'].value_counts(dropna=False)"
   ]
  },
  {
   "cell_type": "code",
   "execution_count": 38,
   "id": "01c8f821",
   "metadata": {},
   "outputs": [],
   "source": [
    "# create subset with \"activity_flag\" = \"Active customer\" \n",
    "df_active_customers = df[df['activity_flag'] =='Active customer']"
   ]
  },
  {
   "cell_type": "code",
   "execution_count": 39,
   "id": "6cca8ef4",
   "metadata": {},
   "outputs": [],
   "source": [
    "# create subset with \"activity_flag\" = \"Non-active customer\" \n",
    "df_non_active_customers = df[df['activity_flag'] =='Non-active customer']"
   ]
  },
  {
   "cell_type": "code",
   "execution_count": 40,
   "id": "8755eded",
   "metadata": {},
   "outputs": [
    {
     "data": {
      "text/plain": [
       "(30964564, 32)"
      ]
     },
     "execution_count": 40,
     "metadata": {},
     "output_type": "execute_result"
    }
   ],
   "source": [
    "df_active_customers.shape"
   ]
  },
  {
   "cell_type": "code",
   "execution_count": 41,
   "id": "07cc926f",
   "metadata": {},
   "outputs": [
    {
     "data": {
      "text/plain": [
       "(1440295, 32)"
      ]
     },
     "execution_count": 41,
     "metadata": {},
     "output_type": "execute_result"
    }
   ],
   "source": [
    "df_non_active_customers.shape"
   ]
  },
  {
   "cell_type": "code",
   "execution_count": 42,
   "id": "f47ff3e7",
   "metadata": {},
   "outputs": [],
   "source": [
    "# Export df_active_customers\n",
    "df_active_customers.to_pickle(os.path.join(path, '02 Data','Prepared Data', 'df_active_cutomers.pkl'))"
   ]
  },
  {
   "cell_type": "code",
   "execution_count": 43,
   "id": "5c8c706b",
   "metadata": {},
   "outputs": [],
   "source": [
    "# Export df_non_active_customers\n",
    "df_non_active_customers.to_pickle(os.path.join(path, '02 Data','Prepared Data', 'df_non_active_cutomers.pkl'))"
   ]
  },
  {
   "cell_type": "markdown",
   "id": "5819f04f",
   "metadata": {},
   "source": [
    "## 5"
   ]
  },
  {
   "cell_type": "markdown",
   "id": "5f7b234a",
   "metadata": {},
   "source": [
    "- The marketing and business strategy units at Instacart want to create more-relevant marketing strategies for different products and are, thus, curious about customer profiling in their database.\n",
    "- Create a profiling variable based on age, income, certain goods in the “department_id” column, and number of dependents.\n",
    "- You might also use the “orders_day_of_the_week” and “order_hour_of_day” columns if you can think of a way they would impact customer profiles. (Hint: As an example, try thinking of what characteristics would lead you to the profile “Single adult” or “Young parent.”)"
   ]
  },
  {
   "cell_type": "code",
   "execution_count": 44,
   "id": "0247daaa",
   "metadata": {},
   "outputs": [],
   "source": [
    "# Excluding customers with <5 orders\n",
    "df_2 = df_active_customers"
   ]
  },
  {
   "cell_type": "markdown",
   "id": "d7ced70c",
   "metadata": {},
   "source": [
    "### Age"
   ]
  },
  {
   "cell_type": "code",
   "execution_count": 45,
   "id": "fc1ef2dd",
   "metadata": {},
   "outputs": [
    {
     "data": {
      "text/plain": [
       "count    3.096456e+07\n",
       "mean     4.946803e+01\n",
       "std      1.848528e+01\n",
       "min      1.800000e+01\n",
       "25%      3.300000e+01\n",
       "50%      4.900000e+01\n",
       "75%      6.500000e+01\n",
       "max      8.100000e+01\n",
       "Name: age, dtype: float64"
      ]
     },
     "execution_count": 45,
     "metadata": {},
     "output_type": "execute_result"
    }
   ],
   "source": [
    "# Analyzing customer age data\n",
    "df_2['age'].describe()"
   ]
  },
  {
   "cell_type": "markdown",
   "id": "6a1e6547",
   "metadata": {},
   "source": [
    "Insights\n",
    "- Average age is 49\n",
    "- Min age is 18\n",
    "- Max age is 81\n",
    "- Will group by std"
   ]
  },
  {
   "cell_type": "code",
   "execution_count": 46,
   "id": "5ac2c9c2",
   "metadata": {},
   "outputs": [],
   "source": [
    "# creating age group conditions"
   ]
  },
  {
   "cell_type": "code",
   "execution_count": 47,
   "id": "a5828bd7",
   "metadata": {},
   "outputs": [
    {
     "name": "stderr",
     "output_type": "stream",
     "text": [
      "/var/folders/b9/y4g8ppyj2bs49xgy2tjbz9c00000gn/T/ipykernel_87067/2781014312.py:1: SettingWithCopyWarning: \n",
      "A value is trying to be set on a copy of a slice from a DataFrame.\n",
      "Try using .loc[row_indexer,col_indexer] = value instead\n",
      "\n",
      "See the caveats in the documentation: https://pandas.pydata.org/pandas-docs/stable/user_guide/indexing.html#returning-a-view-versus-a-copy\n",
      "  df_2.loc[(df_2['age'] >= 18) & (df_2['age'] <= 33), 'age_group'] = '18-33'\n"
     ]
    }
   ],
   "source": [
    "df_2.loc[(df_2['age'] >= 18) & (df_2['age'] <= 33), 'age_group'] = '18-33'"
   ]
  },
  {
   "cell_type": "code",
   "execution_count": 48,
   "id": "2b647593",
   "metadata": {},
   "outputs": [],
   "source": [
    "df_2.loc[(df_2['age'] >= 34) & (df_2['age'] <= 49), 'age_group'] = '34-49'"
   ]
  },
  {
   "cell_type": "code",
   "execution_count": 49,
   "id": "b60e11cb",
   "metadata": {},
   "outputs": [],
   "source": [
    "df_2.loc[(df_2['age'] >= 50) & (df_2['age'] <= 65), 'age_group'] = '50-65'"
   ]
  },
  {
   "cell_type": "code",
   "execution_count": 50,
   "id": "ce5949a5",
   "metadata": {},
   "outputs": [],
   "source": [
    "df_2.loc[(df_2['age'] > 66), 'age_group'] = '65+'"
   ]
  },
  {
   "cell_type": "code",
   "execution_count": 51,
   "id": "22b70cf8",
   "metadata": {},
   "outputs": [
    {
     "data": {
      "text/plain": [
       "age_group\n",
       "34-49    7790824\n",
       "18-33    7757465\n",
       "50-65    7685441\n",
       "65+      7276230\n",
       "NaN       454604\n",
       "Name: count, dtype: int64"
      ]
     },
     "execution_count": 51,
     "metadata": {},
     "output_type": "execute_result"
    }
   ],
   "source": [
    "df_2['age_group'].value_counts(dropna = False)"
   ]
  },
  {
   "cell_type": "markdown",
   "id": "9d2408ab",
   "metadata": {},
   "source": [
    "### Income"
   ]
  },
  {
   "cell_type": "code",
   "execution_count": 52,
   "id": "37e628a0",
   "metadata": {},
   "outputs": [
    {
     "name": "stdout",
     "output_type": "stream",
     "text": [
      "<class 'pandas.core.frame.DataFrame'>\n",
      "Index: 30964564 entries, 0 to 32404854\n",
      "Data columns (total 33 columns):\n",
      " #   Column                  Dtype  \n",
      "---  ------                  -----  \n",
      " 0   order_id                int64  \n",
      " 1   user_id                 int64  \n",
      " 2   order_number            int64  \n",
      " 3   orders_day_of_week      int64  \n",
      " 4   order_hour_of_day       int64  \n",
      " 5   days_since_prior_order  float64\n",
      " 6   product_id              int64  \n",
      " 7   add_to_cart_order       int64  \n",
      " 8   reordered               int64  \n",
      " 9   product_name            object \n",
      " 10  aisle_id                int64  \n",
      " 11  department_id           int64  \n",
      " 12  prices                  float64\n",
      " 13  price_range_loc         object \n",
      " 14  busiest_day             object \n",
      " 15  busiest_days            object \n",
      " 16  busiest_period_of_day   object \n",
      " 17  max_order               int64  \n",
      " 18  loyalty_flag            object \n",
      " 19  average_price           float64\n",
      " 20  spending_flag           object \n",
      " 21  median_orders           float64\n",
      " 22  order_frequency_flag    object \n",
      " 23  gender                  object \n",
      " 24  state                   object \n",
      " 25  age                     int64  \n",
      " 26  date_joined             object \n",
      " 27  dependant_count         int64  \n",
      " 28  fam_status              object \n",
      " 29  income                  int64  \n",
      " 30  region                  object \n",
      " 31  activity_flag           object \n",
      " 32  age_group               object \n",
      "dtypes: float64(4), int64(14), object(15)\n",
      "memory usage: 7.8+ GB\n"
     ]
    }
   ],
   "source": [
    "df_2.info()"
   ]
  },
  {
   "cell_type": "code",
   "execution_count": 53,
   "id": "ce9e9c17",
   "metadata": {},
   "outputs": [
    {
     "data": {
      "text/plain": [
       "count    3.096456e+07\n",
       "mean     9.967587e+04\n",
       "std      4.314187e+04\n",
       "min      2.590300e+04\n",
       "25%      6.729200e+04\n",
       "50%      9.676500e+04\n",
       "75%      1.281020e+05\n",
       "max      5.939010e+05\n",
       "Name: income, dtype: float64"
      ]
     },
     "execution_count": 53,
     "metadata": {},
     "output_type": "execute_result"
    }
   ],
   "source": [
    "# Analyzing customer income data\n",
    "df_2['income'].describe()"
   ]
  },
  {
   "cell_type": "markdown",
   "id": "d4040892",
   "metadata": {},
   "source": [
    "Insights\n",
    "- the average income is 99,676\n",
    "- the min income is 25,903\n",
    "- the maxc income is 5.9mil"
   ]
  },
  {
   "cell_type": "code",
   "execution_count": 54,
   "id": "bfc94903",
   "metadata": {},
   "outputs": [],
   "source": [
    "# creating income group conditions by std"
   ]
  },
  {
   "cell_type": "code",
   "execution_count": 55,
   "id": "275bab6c",
   "metadata": {},
   "outputs": [
    {
     "name": "stderr",
     "output_type": "stream",
     "text": [
      "/var/folders/b9/y4g8ppyj2bs49xgy2tjbz9c00000gn/T/ipykernel_87067/2663177227.py:2: SettingWithCopyWarning: \n",
      "A value is trying to be set on a copy of a slice from a DataFrame.\n",
      "Try using .loc[row_indexer,col_indexer] = value instead\n",
      "\n",
      "See the caveats in the documentation: https://pandas.pydata.org/pandas-docs/stable/user_guide/indexing.html#returning-a-view-versus-a-copy\n",
      "  df_2.loc[df_2['income'] <= 67292, 'income_group'] = 'Low'\n"
     ]
    }
   ],
   "source": [
    "# income <67,292 = Low\n",
    "df_2.loc[df_2['income'] <= 67292, 'income_group'] = 'Low'"
   ]
  },
  {
   "cell_type": "code",
   "execution_count": 56,
   "id": "769b8cef",
   "metadata": {},
   "outputs": [],
   "source": [
    "# income >67292 <=128102 = Mid\n",
    "df_2.loc[(df_2['income'] > 67292) & (df_2['income'] <= 128102), 'income_group'] = 'Mid'"
   ]
  },
  {
   "cell_type": "code",
   "execution_count": 57,
   "id": "69bea289",
   "metadata": {},
   "outputs": [],
   "source": [
    "# income >128102 = High\n",
    "df_2.loc[(df_2['income'] > 128102), 'income_group'] = 'High'"
   ]
  },
  {
   "cell_type": "code",
   "execution_count": 58,
   "id": "f8ecd423",
   "metadata": {},
   "outputs": [
    {
     "data": {
      "text/html": [
       "<div>\n",
       "<style scoped>\n",
       "    .dataframe tbody tr th:only-of-type {\n",
       "        vertical-align: middle;\n",
       "    }\n",
       "\n",
       "    .dataframe tbody tr th {\n",
       "        vertical-align: top;\n",
       "    }\n",
       "\n",
       "    .dataframe thead th {\n",
       "        text-align: right;\n",
       "    }\n",
       "</style>\n",
       "<table border=\"1\" class=\"dataframe\">\n",
       "  <thead>\n",
       "    <tr style=\"text-align: right;\">\n",
       "      <th></th>\n",
       "      <th>order_id</th>\n",
       "      <th>user_id</th>\n",
       "      <th>order_number</th>\n",
       "      <th>orders_day_of_week</th>\n",
       "      <th>order_hour_of_day</th>\n",
       "      <th>days_since_prior_order</th>\n",
       "      <th>product_id</th>\n",
       "      <th>add_to_cart_order</th>\n",
       "      <th>reordered</th>\n",
       "      <th>product_name</th>\n",
       "      <th>aisle_id</th>\n",
       "      <th>department_id</th>\n",
       "      <th>prices</th>\n",
       "      <th>price_range_loc</th>\n",
       "      <th>busiest_day</th>\n",
       "      <th>busiest_days</th>\n",
       "      <th>busiest_period_of_day</th>\n",
       "      <th>max_order</th>\n",
       "      <th>loyalty_flag</th>\n",
       "      <th>average_price</th>\n",
       "      <th>spending_flag</th>\n",
       "      <th>median_orders</th>\n",
       "      <th>order_frequency_flag</th>\n",
       "      <th>gender</th>\n",
       "      <th>state</th>\n",
       "      <th>age</th>\n",
       "      <th>date_joined</th>\n",
       "      <th>dependant_count</th>\n",
       "      <th>fam_status</th>\n",
       "      <th>income</th>\n",
       "      <th>region</th>\n",
       "      <th>activity_flag</th>\n",
       "      <th>age_group</th>\n",
       "      <th>income_group</th>\n",
       "    </tr>\n",
       "  </thead>\n",
       "  <tbody>\n",
       "    <tr>\n",
       "      <th>0</th>\n",
       "      <td>2539329</td>\n",
       "      <td>1</td>\n",
       "      <td>1</td>\n",
       "      <td>2</td>\n",
       "      <td>8</td>\n",
       "      <td>0.0</td>\n",
       "      <td>196</td>\n",
       "      <td>1</td>\n",
       "      <td>0</td>\n",
       "      <td>Soda</td>\n",
       "      <td>77</td>\n",
       "      <td>7</td>\n",
       "      <td>9.0</td>\n",
       "      <td>Mid-range product</td>\n",
       "      <td>Regularly busy</td>\n",
       "      <td>Regularly busy</td>\n",
       "      <td>Average orders</td>\n",
       "      <td>10</td>\n",
       "      <td>New customer</td>\n",
       "      <td>6.367797</td>\n",
       "      <td>Low spender</td>\n",
       "      <td>20.0</td>\n",
       "      <td>Regular customer</td>\n",
       "      <td>Female</td>\n",
       "      <td>Alabama</td>\n",
       "      <td>31</td>\n",
       "      <td>2/17/2019</td>\n",
       "      <td>3</td>\n",
       "      <td>married</td>\n",
       "      <td>40423</td>\n",
       "      <td>South</td>\n",
       "      <td>Active customer</td>\n",
       "      <td>18-33</td>\n",
       "      <td>Low</td>\n",
       "    </tr>\n",
       "    <tr>\n",
       "      <th>1</th>\n",
       "      <td>2398795</td>\n",
       "      <td>1</td>\n",
       "      <td>2</td>\n",
       "      <td>3</td>\n",
       "      <td>7</td>\n",
       "      <td>15.0</td>\n",
       "      <td>196</td>\n",
       "      <td>1</td>\n",
       "      <td>1</td>\n",
       "      <td>Soda</td>\n",
       "      <td>77</td>\n",
       "      <td>7</td>\n",
       "      <td>9.0</td>\n",
       "      <td>Mid-range product</td>\n",
       "      <td>Regularly busy</td>\n",
       "      <td>Least busy days</td>\n",
       "      <td>Average orders</td>\n",
       "      <td>10</td>\n",
       "      <td>New customer</td>\n",
       "      <td>6.367797</td>\n",
       "      <td>Low spender</td>\n",
       "      <td>20.0</td>\n",
       "      <td>Regular customer</td>\n",
       "      <td>Female</td>\n",
       "      <td>Alabama</td>\n",
       "      <td>31</td>\n",
       "      <td>2/17/2019</td>\n",
       "      <td>3</td>\n",
       "      <td>married</td>\n",
       "      <td>40423</td>\n",
       "      <td>South</td>\n",
       "      <td>Active customer</td>\n",
       "      <td>18-33</td>\n",
       "      <td>Low</td>\n",
       "    </tr>\n",
       "    <tr>\n",
       "      <th>2</th>\n",
       "      <td>473747</td>\n",
       "      <td>1</td>\n",
       "      <td>3</td>\n",
       "      <td>3</td>\n",
       "      <td>12</td>\n",
       "      <td>21.0</td>\n",
       "      <td>196</td>\n",
       "      <td>1</td>\n",
       "      <td>1</td>\n",
       "      <td>Soda</td>\n",
       "      <td>77</td>\n",
       "      <td>7</td>\n",
       "      <td>9.0</td>\n",
       "      <td>Mid-range product</td>\n",
       "      <td>Regularly busy</td>\n",
       "      <td>Least busy days</td>\n",
       "      <td>Most orders</td>\n",
       "      <td>10</td>\n",
       "      <td>New customer</td>\n",
       "      <td>6.367797</td>\n",
       "      <td>Low spender</td>\n",
       "      <td>20.0</td>\n",
       "      <td>Regular customer</td>\n",
       "      <td>Female</td>\n",
       "      <td>Alabama</td>\n",
       "      <td>31</td>\n",
       "      <td>2/17/2019</td>\n",
       "      <td>3</td>\n",
       "      <td>married</td>\n",
       "      <td>40423</td>\n",
       "      <td>South</td>\n",
       "      <td>Active customer</td>\n",
       "      <td>18-33</td>\n",
       "      <td>Low</td>\n",
       "    </tr>\n",
       "    <tr>\n",
       "      <th>3</th>\n",
       "      <td>2254736</td>\n",
       "      <td>1</td>\n",
       "      <td>4</td>\n",
       "      <td>4</td>\n",
       "      <td>7</td>\n",
       "      <td>29.0</td>\n",
       "      <td>196</td>\n",
       "      <td>1</td>\n",
       "      <td>1</td>\n",
       "      <td>Soda</td>\n",
       "      <td>77</td>\n",
       "      <td>7</td>\n",
       "      <td>9.0</td>\n",
       "      <td>Mid-range product</td>\n",
       "      <td>Least busy</td>\n",
       "      <td>Least busy days</td>\n",
       "      <td>Average orders</td>\n",
       "      <td>10</td>\n",
       "      <td>New customer</td>\n",
       "      <td>6.367797</td>\n",
       "      <td>Low spender</td>\n",
       "      <td>20.0</td>\n",
       "      <td>Regular customer</td>\n",
       "      <td>Female</td>\n",
       "      <td>Alabama</td>\n",
       "      <td>31</td>\n",
       "      <td>2/17/2019</td>\n",
       "      <td>3</td>\n",
       "      <td>married</td>\n",
       "      <td>40423</td>\n",
       "      <td>South</td>\n",
       "      <td>Active customer</td>\n",
       "      <td>18-33</td>\n",
       "      <td>Low</td>\n",
       "    </tr>\n",
       "    <tr>\n",
       "      <th>4</th>\n",
       "      <td>431534</td>\n",
       "      <td>1</td>\n",
       "      <td>5</td>\n",
       "      <td>4</td>\n",
       "      <td>15</td>\n",
       "      <td>28.0</td>\n",
       "      <td>196</td>\n",
       "      <td>1</td>\n",
       "      <td>1</td>\n",
       "      <td>Soda</td>\n",
       "      <td>77</td>\n",
       "      <td>7</td>\n",
       "      <td>9.0</td>\n",
       "      <td>Mid-range product</td>\n",
       "      <td>Least busy</td>\n",
       "      <td>Least busy days</td>\n",
       "      <td>Most orders</td>\n",
       "      <td>10</td>\n",
       "      <td>New customer</td>\n",
       "      <td>6.367797</td>\n",
       "      <td>Low spender</td>\n",
       "      <td>20.0</td>\n",
       "      <td>Regular customer</td>\n",
       "      <td>Female</td>\n",
       "      <td>Alabama</td>\n",
       "      <td>31</td>\n",
       "      <td>2/17/2019</td>\n",
       "      <td>3</td>\n",
       "      <td>married</td>\n",
       "      <td>40423</td>\n",
       "      <td>South</td>\n",
       "      <td>Active customer</td>\n",
       "      <td>18-33</td>\n",
       "      <td>Low</td>\n",
       "    </tr>\n",
       "  </tbody>\n",
       "</table>\n",
       "</div>"
      ],
      "text/plain": [
       "   order_id  user_id  order_number  orders_day_of_week  order_hour_of_day  \\\n",
       "0   2539329        1             1                   2                  8   \n",
       "1   2398795        1             2                   3                  7   \n",
       "2    473747        1             3                   3                 12   \n",
       "3   2254736        1             4                   4                  7   \n",
       "4    431534        1             5                   4                 15   \n",
       "\n",
       "   days_since_prior_order  product_id  add_to_cart_order  reordered  \\\n",
       "0                     0.0         196                  1          0   \n",
       "1                    15.0         196                  1          1   \n",
       "2                    21.0         196                  1          1   \n",
       "3                    29.0         196                  1          1   \n",
       "4                    28.0         196                  1          1   \n",
       "\n",
       "  product_name  aisle_id  department_id  prices    price_range_loc  \\\n",
       "0         Soda        77              7     9.0  Mid-range product   \n",
       "1         Soda        77              7     9.0  Mid-range product   \n",
       "2         Soda        77              7     9.0  Mid-range product   \n",
       "3         Soda        77              7     9.0  Mid-range product   \n",
       "4         Soda        77              7     9.0  Mid-range product   \n",
       "\n",
       "      busiest_day     busiest_days busiest_period_of_day  max_order  \\\n",
       "0  Regularly busy   Regularly busy        Average orders         10   \n",
       "1  Regularly busy  Least busy days        Average orders         10   \n",
       "2  Regularly busy  Least busy days           Most orders         10   \n",
       "3      Least busy  Least busy days        Average orders         10   \n",
       "4      Least busy  Least busy days           Most orders         10   \n",
       "\n",
       "   loyalty_flag  average_price spending_flag  median_orders  \\\n",
       "0  New customer       6.367797   Low spender           20.0   \n",
       "1  New customer       6.367797   Low spender           20.0   \n",
       "2  New customer       6.367797   Low spender           20.0   \n",
       "3  New customer       6.367797   Low spender           20.0   \n",
       "4  New customer       6.367797   Low spender           20.0   \n",
       "\n",
       "  order_frequency_flag  gender    state  age date_joined  dependant_count  \\\n",
       "0     Regular customer  Female  Alabama   31   2/17/2019                3   \n",
       "1     Regular customer  Female  Alabama   31   2/17/2019                3   \n",
       "2     Regular customer  Female  Alabama   31   2/17/2019                3   \n",
       "3     Regular customer  Female  Alabama   31   2/17/2019                3   \n",
       "4     Regular customer  Female  Alabama   31   2/17/2019                3   \n",
       "\n",
       "  fam_status  income region    activity_flag age_group income_group  \n",
       "0    married   40423  South  Active customer     18-33          Low  \n",
       "1    married   40423  South  Active customer     18-33          Low  \n",
       "2    married   40423  South  Active customer     18-33          Low  \n",
       "3    married   40423  South  Active customer     18-33          Low  \n",
       "4    married   40423  South  Active customer     18-33          Low  "
      ]
     },
     "execution_count": 58,
     "metadata": {},
     "output_type": "execute_result"
    }
   ],
   "source": [
    "df_2.head()"
   ]
  },
  {
   "cell_type": "code",
   "execution_count": 59,
   "id": "829cea79",
   "metadata": {},
   "outputs": [
    {
     "data": {
      "text/plain": [
       "income_group\n",
       "Mid     15482125\n",
       "Low      7741348\n",
       "High     7741091\n",
       "Name: count, dtype: int64"
      ]
     },
     "execution_count": 59,
     "metadata": {},
     "output_type": "execute_result"
    }
   ],
   "source": [
    "df_2['income_group'].value_counts(dropna = False)"
   ]
  },
  {
   "cell_type": "markdown",
   "id": "51b13204",
   "metadata": {},
   "source": [
    "### Department_id"
   ]
  },
  {
   "cell_type": "code",
   "execution_count": 60,
   "id": "c6c28a4f",
   "metadata": {},
   "outputs": [
    {
     "data": {
      "text/plain": [
       "department_id\n",
       "4     9079273\n",
       "16    5177182\n",
       "19    2766406\n",
       "7     2571901\n",
       "1     2121731\n",
       "13    1782705\n",
       "3     1120828\n",
       "15    1012074\n",
       "20    1003834\n",
       "9      822136\n",
       "17     699857\n",
       "12     674781\n",
       "14     670850\n",
       "11     424306\n",
       "18     410392\n",
       "6      255991\n",
       "5      144627\n",
       "8       93060\n",
       "21      64768\n",
       "2       34411\n",
       "10      33451\n",
       "Name: count, dtype: int64"
      ]
     },
     "execution_count": 60,
     "metadata": {},
     "output_type": "execute_result"
    }
   ],
   "source": [
    "df_2['department_id'].value_counts(dropna = False)"
   ]
  },
  {
   "cell_type": "code",
   "execution_count": 61,
   "id": "92fbbfd2",
   "metadata": {},
   "outputs": [],
   "source": [
    "# Import departments_wrangled\" dataframe\n",
    "df_dept = pd.read_csv(os.path.join(path,'02 Data', 'Prepared Data', 'departments_wrangled.csv'))"
   ]
  },
  {
   "cell_type": "code",
   "execution_count": 62,
   "id": "4dfc2cc7",
   "metadata": {},
   "outputs": [
    {
     "data": {
      "text/html": [
       "<div>\n",
       "<style scoped>\n",
       "    .dataframe tbody tr th:only-of-type {\n",
       "        vertical-align: middle;\n",
       "    }\n",
       "\n",
       "    .dataframe tbody tr th {\n",
       "        vertical-align: top;\n",
       "    }\n",
       "\n",
       "    .dataframe thead th {\n",
       "        text-align: right;\n",
       "    }\n",
       "</style>\n",
       "<table border=\"1\" class=\"dataframe\">\n",
       "  <thead>\n",
       "    <tr style=\"text-align: right;\">\n",
       "      <th></th>\n",
       "      <th>Unnamed: 0</th>\n",
       "      <th>department</th>\n",
       "    </tr>\n",
       "  </thead>\n",
       "  <tbody>\n",
       "    <tr>\n",
       "      <th>0</th>\n",
       "      <td>1</td>\n",
       "      <td>frozen</td>\n",
       "    </tr>\n",
       "    <tr>\n",
       "      <th>1</th>\n",
       "      <td>2</td>\n",
       "      <td>other</td>\n",
       "    </tr>\n",
       "    <tr>\n",
       "      <th>2</th>\n",
       "      <td>3</td>\n",
       "      <td>bakery</td>\n",
       "    </tr>\n",
       "    <tr>\n",
       "      <th>3</th>\n",
       "      <td>4</td>\n",
       "      <td>produce</td>\n",
       "    </tr>\n",
       "    <tr>\n",
       "      <th>4</th>\n",
       "      <td>5</td>\n",
       "      <td>alcohol</td>\n",
       "    </tr>\n",
       "    <tr>\n",
       "      <th>5</th>\n",
       "      <td>6</td>\n",
       "      <td>international</td>\n",
       "    </tr>\n",
       "    <tr>\n",
       "      <th>6</th>\n",
       "      <td>7</td>\n",
       "      <td>beverages</td>\n",
       "    </tr>\n",
       "    <tr>\n",
       "      <th>7</th>\n",
       "      <td>8</td>\n",
       "      <td>pets</td>\n",
       "    </tr>\n",
       "    <tr>\n",
       "      <th>8</th>\n",
       "      <td>9</td>\n",
       "      <td>dry goods pasta</td>\n",
       "    </tr>\n",
       "    <tr>\n",
       "      <th>9</th>\n",
       "      <td>10</td>\n",
       "      <td>bulk</td>\n",
       "    </tr>\n",
       "    <tr>\n",
       "      <th>10</th>\n",
       "      <td>11</td>\n",
       "      <td>personal care</td>\n",
       "    </tr>\n",
       "    <tr>\n",
       "      <th>11</th>\n",
       "      <td>12</td>\n",
       "      <td>meat seafood</td>\n",
       "    </tr>\n",
       "    <tr>\n",
       "      <th>12</th>\n",
       "      <td>13</td>\n",
       "      <td>pantry</td>\n",
       "    </tr>\n",
       "    <tr>\n",
       "      <th>13</th>\n",
       "      <td>14</td>\n",
       "      <td>breakfast</td>\n",
       "    </tr>\n",
       "    <tr>\n",
       "      <th>14</th>\n",
       "      <td>15</td>\n",
       "      <td>canned goods</td>\n",
       "    </tr>\n",
       "    <tr>\n",
       "      <th>15</th>\n",
       "      <td>16</td>\n",
       "      <td>dairy eggs</td>\n",
       "    </tr>\n",
       "    <tr>\n",
       "      <th>16</th>\n",
       "      <td>17</td>\n",
       "      <td>household</td>\n",
       "    </tr>\n",
       "    <tr>\n",
       "      <th>17</th>\n",
       "      <td>18</td>\n",
       "      <td>babies</td>\n",
       "    </tr>\n",
       "    <tr>\n",
       "      <th>18</th>\n",
       "      <td>19</td>\n",
       "      <td>snacks</td>\n",
       "    </tr>\n",
       "    <tr>\n",
       "      <th>19</th>\n",
       "      <td>20</td>\n",
       "      <td>deli</td>\n",
       "    </tr>\n",
       "    <tr>\n",
       "      <th>20</th>\n",
       "      <td>21</td>\n",
       "      <td>missing</td>\n",
       "    </tr>\n",
       "  </tbody>\n",
       "</table>\n",
       "</div>"
      ],
      "text/plain": [
       "    Unnamed: 0       department\n",
       "0            1           frozen\n",
       "1            2            other\n",
       "2            3           bakery\n",
       "3            4          produce\n",
       "4            5          alcohol\n",
       "5            6    international\n",
       "6            7        beverages\n",
       "7            8             pets\n",
       "8            9  dry goods pasta\n",
       "9           10             bulk\n",
       "10          11    personal care\n",
       "11          12     meat seafood\n",
       "12          13           pantry\n",
       "13          14        breakfast\n",
       "14          15     canned goods\n",
       "15          16       dairy eggs\n",
       "16          17        household\n",
       "17          18           babies\n",
       "18          19           snacks\n",
       "19          20             deli\n",
       "20          21          missing"
      ]
     },
     "execution_count": 62,
     "metadata": {},
     "output_type": "execute_result"
    }
   ],
   "source": [
    "df_dept"
   ]
  },
  {
   "cell_type": "code",
   "execution_count": 63,
   "id": "e07d7bee",
   "metadata": {},
   "outputs": [],
   "source": [
    "# rename Unamed:0 to department_id\n",
    "df_dept.rename(columns = {'Unnamed: 0' : 'department_id'}, inplace = True)"
   ]
  },
  {
   "cell_type": "code",
   "execution_count": 64,
   "id": "dd88afc6",
   "metadata": {},
   "outputs": [
    {
     "data": {
      "text/html": [
       "<div>\n",
       "<style scoped>\n",
       "    .dataframe tbody tr th:only-of-type {\n",
       "        vertical-align: middle;\n",
       "    }\n",
       "\n",
       "    .dataframe tbody tr th {\n",
       "        vertical-align: top;\n",
       "    }\n",
       "\n",
       "    .dataframe thead th {\n",
       "        text-align: right;\n",
       "    }\n",
       "</style>\n",
       "<table border=\"1\" class=\"dataframe\">\n",
       "  <thead>\n",
       "    <tr style=\"text-align: right;\">\n",
       "      <th></th>\n",
       "      <th>department_id</th>\n",
       "      <th>department</th>\n",
       "    </tr>\n",
       "  </thead>\n",
       "  <tbody>\n",
       "    <tr>\n",
       "      <th>0</th>\n",
       "      <td>1</td>\n",
       "      <td>frozen</td>\n",
       "    </tr>\n",
       "    <tr>\n",
       "      <th>1</th>\n",
       "      <td>2</td>\n",
       "      <td>other</td>\n",
       "    </tr>\n",
       "    <tr>\n",
       "      <th>2</th>\n",
       "      <td>3</td>\n",
       "      <td>bakery</td>\n",
       "    </tr>\n",
       "    <tr>\n",
       "      <th>3</th>\n",
       "      <td>4</td>\n",
       "      <td>produce</td>\n",
       "    </tr>\n",
       "    <tr>\n",
       "      <th>4</th>\n",
       "      <td>5</td>\n",
       "      <td>alcohol</td>\n",
       "    </tr>\n",
       "    <tr>\n",
       "      <th>5</th>\n",
       "      <td>6</td>\n",
       "      <td>international</td>\n",
       "    </tr>\n",
       "    <tr>\n",
       "      <th>6</th>\n",
       "      <td>7</td>\n",
       "      <td>beverages</td>\n",
       "    </tr>\n",
       "    <tr>\n",
       "      <th>7</th>\n",
       "      <td>8</td>\n",
       "      <td>pets</td>\n",
       "    </tr>\n",
       "    <tr>\n",
       "      <th>8</th>\n",
       "      <td>9</td>\n",
       "      <td>dry goods pasta</td>\n",
       "    </tr>\n",
       "    <tr>\n",
       "      <th>9</th>\n",
       "      <td>10</td>\n",
       "      <td>bulk</td>\n",
       "    </tr>\n",
       "    <tr>\n",
       "      <th>10</th>\n",
       "      <td>11</td>\n",
       "      <td>personal care</td>\n",
       "    </tr>\n",
       "    <tr>\n",
       "      <th>11</th>\n",
       "      <td>12</td>\n",
       "      <td>meat seafood</td>\n",
       "    </tr>\n",
       "    <tr>\n",
       "      <th>12</th>\n",
       "      <td>13</td>\n",
       "      <td>pantry</td>\n",
       "    </tr>\n",
       "    <tr>\n",
       "      <th>13</th>\n",
       "      <td>14</td>\n",
       "      <td>breakfast</td>\n",
       "    </tr>\n",
       "    <tr>\n",
       "      <th>14</th>\n",
       "      <td>15</td>\n",
       "      <td>canned goods</td>\n",
       "    </tr>\n",
       "    <tr>\n",
       "      <th>15</th>\n",
       "      <td>16</td>\n",
       "      <td>dairy eggs</td>\n",
       "    </tr>\n",
       "    <tr>\n",
       "      <th>16</th>\n",
       "      <td>17</td>\n",
       "      <td>household</td>\n",
       "    </tr>\n",
       "    <tr>\n",
       "      <th>17</th>\n",
       "      <td>18</td>\n",
       "      <td>babies</td>\n",
       "    </tr>\n",
       "    <tr>\n",
       "      <th>18</th>\n",
       "      <td>19</td>\n",
       "      <td>snacks</td>\n",
       "    </tr>\n",
       "    <tr>\n",
       "      <th>19</th>\n",
       "      <td>20</td>\n",
       "      <td>deli</td>\n",
       "    </tr>\n",
       "    <tr>\n",
       "      <th>20</th>\n",
       "      <td>21</td>\n",
       "      <td>missing</td>\n",
       "    </tr>\n",
       "  </tbody>\n",
       "</table>\n",
       "</div>"
      ],
      "text/plain": [
       "    department_id       department\n",
       "0               1           frozen\n",
       "1               2            other\n",
       "2               3           bakery\n",
       "3               4          produce\n",
       "4               5          alcohol\n",
       "5               6    international\n",
       "6               7        beverages\n",
       "7               8             pets\n",
       "8               9  dry goods pasta\n",
       "9              10             bulk\n",
       "10             11    personal care\n",
       "11             12     meat seafood\n",
       "12             13           pantry\n",
       "13             14        breakfast\n",
       "14             15     canned goods\n",
       "15             16       dairy eggs\n",
       "16             17        household\n",
       "17             18           babies\n",
       "18             19           snacks\n",
       "19             20             deli\n",
       "20             21          missing"
      ]
     },
     "execution_count": 64,
     "metadata": {},
     "output_type": "execute_result"
    }
   ],
   "source": [
    "df_dept"
   ]
  },
  {
   "cell_type": "code",
   "execution_count": null,
   "id": "b49cb106",
   "metadata": {},
   "outputs": [],
   "source": [
    "# merge df_dept with df_2\n",
    "df_2 = df_2.merge(df_dept, on = 'department_id')"
   ]
  },
  {
   "cell_type": "code",
   "execution_count": null,
   "id": "685a453c",
   "metadata": {},
   "outputs": [],
   "source": [
    "df_2.head()"
   ]
  },
  {
   "cell_type": "code",
   "execution_count": null,
   "id": "55983e82",
   "metadata": {},
   "outputs": [],
   "source": [
    "df_2['department'].value_counts(dropna = False)"
   ]
  },
  {
   "cell_type": "markdown",
   "id": "f9239c2b",
   "metadata": {},
   "source": [
    "### Create profiling variables"
   ]
  },
  {
   "cell_type": "code",
   "execution_count": null,
   "id": "2a1b5fd9",
   "metadata": {},
   "outputs": [],
   "source": [
    "# create profiling variable for alcohol department\n",
    "df_2.loc[df_2['department'] == 'alcohol', 'department_flag'] = 'Drinks alcohol'"
   ]
  },
  {
   "cell_type": "code",
   "execution_count": null,
   "id": "ff51aaf3",
   "metadata": {},
   "outputs": [],
   "source": [
    "# create profiling variable for deli & meat/seafood department\n",
    "df_2.loc[(df_2['department'] == 'deli') & (df_2['department'] == 'meat seafood'), 'department_flag'] = 'Meat eater'"
   ]
  },
  {
   "cell_type": "code",
   "execution_count": null,
   "id": "0a0e87c3",
   "metadata": {},
   "outputs": [],
   "source": [
    "# create profiling variable for babies\n",
    "df_2.loc[(df_2['department'] == 'babies'), 'department_flag'] = 'Has baby'"
   ]
  },
  {
   "cell_type": "code",
   "execution_count": null,
   "id": "6ae33f62",
   "metadata": {},
   "outputs": [],
   "source": [
    "# create profiling variable for pets\n",
    "df_2.loc[(df_2['department'] == 'pets'), 'department_flag'] = 'Has pet'"
   ]
  },
  {
   "cell_type": "code",
   "execution_count": null,
   "id": "b5674a31",
   "metadata": {},
   "outputs": [],
   "source": [
    "df_2['department_flag'].value_counts(dropna = False)"
   ]
  },
  {
   "cell_type": "code",
   "execution_count": null,
   "id": "447a5ef1",
   "metadata": {},
   "outputs": [],
   "source": [
    "# Replace NaN with \"None\" so it doesn't look like missing data\n",
    "df_2['department_flag'].fillna('None', inplace=True)"
   ]
  },
  {
   "cell_type": "code",
   "execution_count": null,
   "id": "264c27f6",
   "metadata": {},
   "outputs": [],
   "source": [
    "df_2['department_flag'].value_counts(dropna = False)"
   ]
  },
  {
   "cell_type": "markdown",
   "id": "a5558c90",
   "metadata": {},
   "source": [
    "### Dependants"
   ]
  },
  {
   "cell_type": "code",
   "execution_count": null,
   "id": "2513e8ee",
   "metadata": {},
   "outputs": [],
   "source": [
    "# Analyzing customer dependants data\n",
    "df_2['dependant_count'].describe()"
   ]
  },
  {
   "cell_type": "markdown",
   "id": "7b1f76b9",
   "metadata": {},
   "source": [
    "Insights\n",
    "- mean number of dependants is 1.5\n",
    "- min number of dependants is 0\n",
    "- max number of dependants is 3"
   ]
  },
  {
   "cell_type": "code",
   "execution_count": null,
   "id": "866ee543",
   "metadata": {},
   "outputs": [],
   "source": [
    "# creating dependant group conditions by std"
   ]
  },
  {
   "cell_type": "code",
   "execution_count": null,
   "id": "02508d60",
   "metadata": {},
   "outputs": [],
   "source": [
    "# no dependants\n",
    "df_2.loc[df_2['dependant_count'] == 0, 'dependants_flag'] = 'No dependants'"
   ]
  },
  {
   "cell_type": "code",
   "execution_count": null,
   "id": "78f0c21d",
   "metadata": {},
   "outputs": [],
   "source": [
    "# has dependants\n",
    "df_2.loc[df_2['dependant_count'] > 0, 'dependants_flag'] = 'Has dependants'"
   ]
  },
  {
   "cell_type": "code",
   "execution_count": null,
   "id": "a959495e",
   "metadata": {},
   "outputs": [],
   "source": [
    "df_2['dependants_flag'].value_counts(dropna = False)"
   ]
  },
  {
   "cell_type": "code",
   "execution_count": null,
   "id": "aea61c83",
   "metadata": {},
   "outputs": [],
   "source": [
    "df_2.head()"
   ]
  },
  {
   "cell_type": "markdown",
   "id": "bd87786e",
   "metadata": {},
   "source": [
    "### Creating family flags"
   ]
  },
  {
   "cell_type": "code",
   "execution_count": null,
   "id": "9f4e8dde",
   "metadata": {},
   "outputs": [],
   "source": [
    "# Analyze family data"
   ]
  },
  {
   "cell_type": "code",
   "execution_count": null,
   "id": "119f8e7d",
   "metadata": {},
   "outputs": [],
   "source": [
    "df_2['fam_status'].value_counts(dropna = False)"
   ]
  },
  {
   "cell_type": "code",
   "execution_count": null,
   "id": "8fae9066",
   "metadata": {},
   "outputs": [],
   "source": [
    "df_2['dependants_flag'].value_counts(dropna = False)"
   ]
  },
  {
   "cell_type": "code",
   "execution_count": null,
   "id": "1de01d3b",
   "metadata": {},
   "outputs": [],
   "source": [
    "df_2['age_group'].value_counts(dropna = False)"
   ]
  },
  {
   "cell_type": "code",
   "execution_count": null,
   "id": "4d507f81",
   "metadata": {
    "scrolled": true
   },
   "outputs": [],
   "source": [
    "df_2['gender'].value_counts(dropna = False)"
   ]
  },
  {
   "cell_type": "code",
   "execution_count": null,
   "id": "d6294872",
   "metadata": {},
   "outputs": [],
   "source": [
    "df_2['income_group'].value_counts(dropna = False)"
   ]
  },
  {
   "cell_type": "markdown",
   "id": "7572e622",
   "metadata": {},
   "source": [
    "### Creating family groups"
   ]
  },
  {
   "cell_type": "markdown",
   "id": "8c3bb51a",
   "metadata": {},
   "source": [
    "### family_flag"
   ]
  },
  {
   "cell_type": "code",
   "execution_count": null,
   "id": "2d199464",
   "metadata": {},
   "outputs": [],
   "source": [
    "# married man with no children\n",
    "df_2.loc[(df_2['fam_status'] == 'married') & (df_2['gender'] == 'Male') & (df_2['dependants_flag'] == 'No dependants'), 'family_flag'] = 'Married man, no children'"
   ]
  },
  {
   "cell_type": "code",
   "execution_count": null,
   "id": "f34d808c",
   "metadata": {},
   "outputs": [],
   "source": [
    "# married man with children\n",
    "df_2.loc[(df_2['fam_status'] == 'married') & (df_2['gender'] == 'Male') & (df_2['dependants_flag'] == 'Has dependants'), 'family_flag'] = 'Married man, has children'"
   ]
  },
  {
   "cell_type": "code",
   "execution_count": null,
   "id": "2a765879",
   "metadata": {},
   "outputs": [],
   "source": [
    "# married woman with no children\n",
    "df_2.loc[(df_2['fam_status'] == 'married') & (df_2['gender'] == 'Female') & (df_2['dependants_flag'] == 'No dependants'), 'family_flag'] = 'Married woman, no children'"
   ]
  },
  {
   "cell_type": "code",
   "execution_count": null,
   "id": "8c99bd7a",
   "metadata": {},
   "outputs": [],
   "source": [
    "# married woman with children\n",
    "df_2.loc[(df_2['fam_status'] == 'married') & (df_2['gender'] == 'Female') & (df_2['dependants_flag'] == 'Has dependants'), 'family_flag'] = 'Married woman, has children'"
   ]
  },
  {
   "cell_type": "code",
   "execution_count": null,
   "id": "925ab547",
   "metadata": {},
   "outputs": [],
   "source": [
    "# single man with no children\n",
    "df_2.loc[(df_2['fam_status'].isin(['single','living with parents and siblings','divorced/widowed'])) & (df_2['gender'] == 'Male') & (df_2['dependants_flag'] == 'No dependants'), 'family_flag'] = 'Single man, no children'"
   ]
  },
  {
   "cell_type": "code",
   "execution_count": null,
   "id": "f7ef0971",
   "metadata": {},
   "outputs": [],
   "source": [
    "# single man with children\n",
    "df_2.loc[(df_2['fam_status'].isin(['single','living with parents and siblings','divorced/widowed'])) & (df_2['gender'] == 'Male') & (df_2['dependants_flag'] == 'Has dependants'), 'family_flag'] = 'Single man, has children'"
   ]
  },
  {
   "cell_type": "code",
   "execution_count": null,
   "id": "882d7a53",
   "metadata": {},
   "outputs": [],
   "source": [
    "# single woman with no children\n",
    "df_2.loc[(df_2['fam_status'].isin(['single','living with parents and siblings','divorced/widowed'])) & (df_2['gender'] == 'Female') & (df_2['dependants_flag'] == 'No dependants'), 'family_flag'] = 'Single woman, no children'"
   ]
  },
  {
   "cell_type": "code",
   "execution_count": null,
   "id": "8cc205db",
   "metadata": {},
   "outputs": [],
   "source": [
    "# single woman with children\n",
    "df_2.loc[(df_2['fam_status'].isin(['single','living with parents and siblings','divorced/widowed'])) & (df_2['gender'] == 'Female') & (df_2['dependants_flag'] == 'Has dependants'), 'family_flag'] = 'Single woman, has children'"
   ]
  },
  {
   "cell_type": "code",
   "execution_count": null,
   "id": "7d63f8cd",
   "metadata": {},
   "outputs": [],
   "source": [
    "df_2['family_flag'].value_counts(dropna = False)"
   ]
  },
  {
   "cell_type": "markdown",
   "id": "e92cbcca",
   "metadata": {},
   "source": [
    "no 'married man/woman, no children' - why?"
   ]
  },
  {
   "cell_type": "markdown",
   "id": "fe0cbe0b",
   "metadata": {},
   "source": [
    "### family_flag_income"
   ]
  },
  {
   "cell_type": "markdown",
   "id": "9f563a40",
   "metadata": {},
   "source": [
    "men"
   ]
  },
  {
   "cell_type": "code",
   "execution_count": null,
   "id": "72812142",
   "metadata": {},
   "outputs": [],
   "source": [
    "# married man with children, low income\n",
    "df_2.loc[(df_2['fam_status'] == 'married') & (df_2['gender'] == 'Male') & (df_2['dependants_flag'] == 'Has dependants') & (df_2['income_group'] == 'Low'), 'family_flag_income'] = 'Low income, married man, has children'"
   ]
  },
  {
   "cell_type": "code",
   "execution_count": null,
   "id": "0aad65fe",
   "metadata": {},
   "outputs": [],
   "source": [
    "# married man with children, mid income\n",
    "df_2.loc[(df_2['fam_status'] == 'married') & (df_2['gender'] == 'Male') & (df_2['dependants_flag'] == 'Has dependants') & (df_2['income_group'] == 'Mid'), 'family_flag_income'] = 'Mid income, married man, has children'"
   ]
  },
  {
   "cell_type": "code",
   "execution_count": null,
   "id": "d250f442",
   "metadata": {},
   "outputs": [],
   "source": [
    "# married man with children, high income\n",
    "df_2.loc[(df_2['fam_status'] == 'married') & (df_2['gender'] == 'Male') & (df_2['dependants_flag'] == 'Has dependants') & (df_2['income_group'] == 'High'), 'family_flag_income'] = 'High income, married man, has children'"
   ]
  },
  {
   "cell_type": "code",
   "execution_count": null,
   "id": "363dfded",
   "metadata": {},
   "outputs": [],
   "source": [
    "# single man with children, low income\n",
    "df_2.loc[(df_2['fam_status'].isin(['single','living with parents and siblings','divorced/widowed'])) & (df_2['gender'] == 'Male') & (df_2['dependants_flag'] == 'Has dependants') & (df_2['income_group'] == 'Low'), 'family_flag_income'] = 'Low income, single man, has children'"
   ]
  },
  {
   "cell_type": "code",
   "execution_count": null,
   "id": "659da283",
   "metadata": {},
   "outputs": [],
   "source": [
    "# single man with children, mid income\n",
    "df_2.loc[(df_2['fam_status'].isin(['single','living with parents and siblings','divorced/widowed'])) & (df_2['gender'] == 'Male') & (df_2['dependants_flag'] == 'Has dependants') & (df_2['income_group'] == 'Mid'), 'family_flag_income'] = 'Mid income, single man, has children'"
   ]
  },
  {
   "cell_type": "code",
   "execution_count": null,
   "id": "27bc6f7a",
   "metadata": {},
   "outputs": [],
   "source": [
    "# single man with children, high income\n",
    "df_2.loc[(df_2['fam_status'].isin(['single','living with parents and siblings','divorced/widowed'])) & (df_2['gender'] == 'Male') & (df_2['dependants_flag'] == 'Has dependants') & (df_2['income_group'] == 'High'), 'family_flag_income'] = 'High income, single man, has children'"
   ]
  },
  {
   "cell_type": "code",
   "execution_count": null,
   "id": "9b40bf9e",
   "metadata": {},
   "outputs": [],
   "source": [
    "# married man with no children, low income\n",
    "df_2.loc[(df_2['fam_status'] == 'married') & (df_2['gender'] == 'Male') & (df_2['dependants_flag'] == 'No dependants') & (df_2['income_group'] == 'Low'), 'family_flag_income'] = 'Low income, married man, no children'"
   ]
  },
  {
   "cell_type": "code",
   "execution_count": null,
   "id": "30366ccf",
   "metadata": {},
   "outputs": [],
   "source": [
    "# married man with no children, mid income\n",
    "df_2.loc[(df_2['fam_status'] == 'married') & (df_2['gender'] == 'Male') & (df_2['dependants_flag'] == 'No dependants') & (df_2['income_group'] == 'Mid'), 'family_flag_income'] = 'Mid income, married man, no children'"
   ]
  },
  {
   "cell_type": "code",
   "execution_count": null,
   "id": "4ae736fa",
   "metadata": {},
   "outputs": [],
   "source": [
    "# married man with no children, high income\n",
    "df_2.loc[(df_2['fam_status'] == 'married') & (df_2['gender'] == 'Male') & (df_2['dependants_flag'] == 'No dependants') & (df_2['income_group'] == 'High'), 'family_flag_income'] = 'High income, married man, no children'"
   ]
  },
  {
   "cell_type": "code",
   "execution_count": null,
   "id": "f0a3e83b",
   "metadata": {},
   "outputs": [],
   "source": [
    "# married man with no children, mid income\n",
    "df_2.loc[(df_2['fam_status'] == 'married') & (df_2['gender'] == 'Male') & (df_2['dependants_flag'] == 'No dependants') & (df_2['income_group'] == 'Mid'), 'family_flag_income'] = 'Mid income, married man, no children'"
   ]
  },
  {
   "cell_type": "code",
   "execution_count": null,
   "id": "a1dc9fe8",
   "metadata": {},
   "outputs": [],
   "source": [
    "# single man with no children, low income\n",
    "df_2.loc[(df_2['fam_status'].isin(['single','living with parents and siblings','divorced/widowed'])) & (df_2['gender'] == 'Male') & (df_2['dependants_flag'] == 'No dependants') & (df_2['income_group'] == 'Low'), 'family_flag_income'] = 'Low income, single man, no children'"
   ]
  },
  {
   "cell_type": "code",
   "execution_count": null,
   "id": "7a161d2f",
   "metadata": {},
   "outputs": [],
   "source": [
    "# single man with no children, mid income\n",
    "df_2.loc[(df_2['fam_status'].isin(['single','living with parents and siblings','divorced/widowed'])) & (df_2['gender'] == 'Male') & (df_2['dependants_flag'] == 'No dependants') & (df_2['income_group'] == 'Mid'), 'family_flag_income'] = 'Mid income, single man, no children'"
   ]
  },
  {
   "cell_type": "code",
   "execution_count": null,
   "id": "592fd7c0",
   "metadata": {},
   "outputs": [],
   "source": [
    "# single man with no children, high income\n",
    "df_2.loc[(df_2['fam_status'].isin(['single','living with parents and siblings','divorced/widowed'])) & (df_2['gender'] == 'Male') & (df_2['dependants_flag'] == 'No dependants') & (df_2['income_group'] == 'High'), 'family_flag_income'] = 'High income, single man, no children'"
   ]
  },
  {
   "cell_type": "markdown",
   "id": "7ecf8349",
   "metadata": {},
   "source": [
    "women"
   ]
  },
  {
   "cell_type": "code",
   "execution_count": null,
   "id": "afb95e73",
   "metadata": {},
   "outputs": [],
   "source": [
    "# married woman with children, low income\n",
    "df_2.loc[(df_2['fam_status'] == 'married') & (df_2['gender'] == 'Female') & (df_2['dependants_flag'] == 'Has dependants') & (df_2['income_group'] == 'Low'), 'family_flag_income'] = 'Low income, married woman, has children'"
   ]
  },
  {
   "cell_type": "code",
   "execution_count": null,
   "id": "c5e4f49b",
   "metadata": {},
   "outputs": [],
   "source": [
    "# married woman with children, mid income\n",
    "df_2.loc[(df_2['fam_status'] == 'married') & (df_2['gender'] == 'Female') & (df_2['dependants_flag'] == 'Has dependants') & (df_2['income_group'] == 'Mid'), 'family_flag_income'] = 'Mid income, married woman, has children'"
   ]
  },
  {
   "cell_type": "code",
   "execution_count": null,
   "id": "ebe5d65a",
   "metadata": {},
   "outputs": [],
   "source": [
    "# married woman with children, high income\n",
    "df_2.loc[(df_2['fam_status'] == 'married') & (df_2['gender'] == 'Female') & (df_2['dependants_flag'] == 'Has dependants') & (df_2['income_group'] == 'High'), 'family_flag_income'] = 'High income, married woman, has children'"
   ]
  },
  {
   "cell_type": "code",
   "execution_count": null,
   "id": "bd32337b",
   "metadata": {},
   "outputs": [],
   "source": [
    "# single woman with children, low income\n",
    "df_2.loc[(df_2['fam_status'].isin(['single','living with parents and siblings','divorced/widowed'])) & (df_2['gender'] == 'Female') & (df_2['dependants_flag'] == 'Has dependants') & (df_2['income_group'] == 'Low'), 'family_flag_income'] = 'Low income, single woman, has children'"
   ]
  },
  {
   "cell_type": "code",
   "execution_count": null,
   "id": "db86e596",
   "metadata": {},
   "outputs": [],
   "source": [
    "# single woman with children, mid income\n",
    "df_2.loc[(df_2['fam_status'].isin(['single','living with parents and siblings','divorced/widowed'])) & (df_2['gender'] == 'Female') & (df_2['dependants_flag'] == 'Has dependants') & (df_2['income_group'] == 'Mid'), 'family_flag_income'] = 'Mid income, single woman, has children'"
   ]
  },
  {
   "cell_type": "code",
   "execution_count": null,
   "id": "46996009",
   "metadata": {},
   "outputs": [],
   "source": [
    "# single woman with children, high income\n",
    "df_2.loc[(df_2['fam_status'].isin(['single','living with parents and siblings','divorced/widowed'])) & (df_2['gender'] == 'Female') & (df_2['dependants_flag'] == 'Has dependants') & (df_2['income_group'] == 'High'), 'family_flag_income'] = 'High income, single woman, has children'"
   ]
  },
  {
   "cell_type": "code",
   "execution_count": null,
   "id": "4fda84be",
   "metadata": {},
   "outputs": [],
   "source": [
    "# married woman with no children, low income\n",
    "df_2.loc[(df_2['fam_status'] == 'married') & (df_2['gender'] == 'Female') & (df_2['dependants_flag'] == 'No dependants') & (df_2['income_group'] == 'Low'), 'family_flag_income'] = 'Low income, married woman, no children'"
   ]
  },
  {
   "cell_type": "code",
   "execution_count": null,
   "id": "333672cc",
   "metadata": {},
   "outputs": [],
   "source": [
    "# married woman with no children, mid income\n",
    "df_2.loc[(df_2['fam_status'] == 'married') & (df_2['gender'] == 'Female') & (df_2['dependants_flag'] == 'No dependants') & (df_2['income_group'] == 'Low'), 'family_flag_income'] = 'Mid income, married woman, no children'"
   ]
  },
  {
   "cell_type": "code",
   "execution_count": null,
   "id": "964cc5fa",
   "metadata": {},
   "outputs": [],
   "source": [
    "# married woman with no children, high income\n",
    "df_2.loc[(df_2['fam_status'] == 'married') & (df_2['gender'] == 'Female') & (df_2['dependants_flag'] == 'No dependants') & (df_2['income_group'] == 'High'), 'family_flag_income'] = 'High income, married woman, no children'"
   ]
  },
  {
   "cell_type": "code",
   "execution_count": null,
   "id": "1597191e",
   "metadata": {},
   "outputs": [],
   "source": [
    "# single woman with no children, low income\n",
    "df_2.loc[(df_2['fam_status'].isin(['single','living with parents and siblings','divorced/widowed'])) & (df_2['gender'] == 'Female') & (df_2['dependants_flag'] == 'No dependants') & (df_2['income_group'] == 'Low'), 'family_flag_income'] = 'Low income, single woman, no children'"
   ]
  },
  {
   "cell_type": "code",
   "execution_count": null,
   "id": "501f49cc",
   "metadata": {},
   "outputs": [],
   "source": [
    "# single woman with no children, mid income\n",
    "df_2.loc[(df_2['fam_status'].isin(['single','living with parents and siblings','divorced/widowed'])) & (df_2['gender'] == 'Female') & (df_2['dependants_flag'] == 'No dependants') & (df_2['income_group'] == 'Mid'), 'family_flag_income'] = 'Mid income, single woman, no children'"
   ]
  },
  {
   "cell_type": "code",
   "execution_count": null,
   "id": "edf246a1",
   "metadata": {},
   "outputs": [],
   "source": [
    "# single woman with no children, high income\n",
    "df_2.loc[(df_2['fam_status'].isin(['single','living with parents and siblings','divorced/widowed'])) & (df_2['gender'] == 'Female') & (df_2['dependants_flag'] == 'No dependants') & (df_2['income_group'] == 'High'), 'family_flag_income'] = 'High income, single woman, no children'"
   ]
  },
  {
   "cell_type": "markdown",
   "id": "01f04f36",
   "metadata": {},
   "source": [
    "### family_flag_age"
   ]
  },
  {
   "cell_type": "markdown",
   "id": "dd6731c5",
   "metadata": {},
   "source": [
    "men"
   ]
  },
  {
   "cell_type": "code",
   "execution_count": null,
   "id": "51a3c80f",
   "metadata": {},
   "outputs": [],
   "source": [
    "# young single man with children\n",
    "df_2.loc[(df_2['fam_status'].isin(['single','living with parents and siblings','divorced/widowed'])) & (df_2['gender'] == 'Male') & (df_2['dependants_flag'] == 'Has dependants') & (df_2['age_group'] == '18-33'), 'family_flag_age'] = 'Young, single man, has children'"
   ]
  },
  {
   "cell_type": "code",
   "execution_count": null,
   "id": "a3831bd8",
   "metadata": {},
   "outputs": [],
   "source": [
    "# young married man with children\n",
    "df_2.loc[(df_2['fam_status'] == 'married') & (df_2['gender'] == 'Male') & (df_2['dependants_flag'] == 'Has dependants') & (df_2['age_group'] == '18-33'), 'family_flag_age'] = 'Young, married man, has children'"
   ]
  },
  {
   "cell_type": "code",
   "execution_count": null,
   "id": "c33584ae",
   "metadata": {},
   "outputs": [],
   "source": [
    "# young single man with no children\n",
    "df_2.loc[(df_2['fam_status'].isin(['single','living with parents and siblings','divorced/widowed'])) & (df_2['gender'] == 'Male') & (df_2['dependants_flag'] == 'No dependants') & (df_2['age_group'] == '18-33'), 'family_flag_age'] = 'Young, single man, has no children'"
   ]
  },
  {
   "cell_type": "code",
   "execution_count": null,
   "id": "1f4aaa74",
   "metadata": {},
   "outputs": [],
   "source": [
    "# young married man with no children\n",
    "df_2.loc[(df_2['fam_status'] == 'married') & (df_2['gender'] == 'Male') & (df_2['dependants_flag'] == 'No dependants') & (df_2['age_group'] == '18-33'), 'family_flag_age'] = 'Young, married man, has no children'"
   ]
  },
  {
   "cell_type": "code",
   "execution_count": null,
   "id": "0320f78d",
   "metadata": {},
   "outputs": [],
   "source": [
    "# middle-age single man with children\n",
    "df_2.loc[(df_2['fam_status'].isin(['single','living with parents and siblings','divorced/widowed'])) & (df_2['gender'] == 'Male') & (df_2['dependants_flag'] == 'Has dependants') & (df_2['age_group'] == '34-49'), 'family_flag_age'] = 'Middle-age, single man, has children'"
   ]
  },
  {
   "cell_type": "code",
   "execution_count": null,
   "id": "887010c5",
   "metadata": {},
   "outputs": [],
   "source": [
    "# middle-age married man with children\n",
    "df_2.loc[(df_2['fam_status'] == 'married') & (df_2['gender'] == 'Male') & (df_2['dependants_flag'] == 'Has dependants') & (df_2['age_group'] == '34-49'), 'family_flag_age'] = 'Middle-age, married man, has children'"
   ]
  },
  {
   "cell_type": "code",
   "execution_count": null,
   "id": "26a7c740",
   "metadata": {},
   "outputs": [],
   "source": [
    "# middle-age single man with no children\n",
    "df_2.loc[(df_2['fam_status'].isin(['single','living with parents and siblings','divorced/widowed'])) & (df_2['gender'] == 'Male') & (df_2['dependants_flag'] == 'No dependants') & (df_2['age_group'] == '34-49'), 'family_flag_age'] = 'Middle-age, single man, has no children'"
   ]
  },
  {
   "cell_type": "code",
   "execution_count": null,
   "id": "cc0768d8",
   "metadata": {},
   "outputs": [],
   "source": [
    "# middle-age married man with no children\n",
    "df_2.loc[(df_2['fam_status'] == 'married') & (df_2['gender'] == 'Male') & (df_2['dependants_flag'] == 'No dependants') & (df_2['age_group'] == '34-49'), 'family_flag_age'] = 'Middle-age, married man, has no children'"
   ]
  },
  {
   "cell_type": "code",
   "execution_count": null,
   "id": "4f13aa4d",
   "metadata": {},
   "outputs": [],
   "source": [
    "# middle-old-age single man with children\n",
    "df_2.loc[(df_2['fam_status'].isin(['single','living with parents and siblings','divorced/widowed'])) & (df_2['gender'] == 'Male') & (df_2['dependants_flag'] == 'Has dependants') & (df_2['age_group'] == '50-65'), 'family_flag_age'] = 'Middle-old-age, single man, has children'"
   ]
  },
  {
   "cell_type": "code",
   "execution_count": null,
   "id": "29c0208e",
   "metadata": {},
   "outputs": [],
   "source": [
    "# middle-old-age married man with children\n",
    "df_2.loc[(df_2['fam_status'] == 'married') & (df_2['gender'] == 'Male') & (df_2['dependants_flag'] == 'Has dependants') & (df_2['age_group'] == '50-65'), 'family_flag_age'] = 'Middle-old-age, married man, has children'"
   ]
  },
  {
   "cell_type": "code",
   "execution_count": null,
   "id": "b96cfdff",
   "metadata": {},
   "outputs": [],
   "source": [
    "# middle-old-age single man with no children\n",
    "df_2.loc[(df_2['fam_status'].isin(['single','living with parents and siblings','divorced/widowed'])) & (df_2['gender'] == 'Male') & (df_2['dependants_flag'] == 'No dependants') & (df_2['age_group'] == '50-65'), 'family_flag_age'] = 'Middle-old-age, single man, has no children'"
   ]
  },
  {
   "cell_type": "code",
   "execution_count": null,
   "id": "edd4cbe0",
   "metadata": {},
   "outputs": [],
   "source": [
    "# middle-old-age married man with no children\n",
    "df_2.loc[(df_2['fam_status'] == 'married') & (df_2['gender'] == 'Male') & (df_2['dependants_flag'] == 'No dependants') & (df_2['age_group'] == '50-65'), 'family_flag_age'] = 'Middle-old-age, married man, has no children'"
   ]
  },
  {
   "cell_type": "code",
   "execution_count": null,
   "id": "04f1751a",
   "metadata": {},
   "outputs": [],
   "source": [
    "# older single man with children\n",
    "df_2.loc[(df_2['fam_status'].isin(['single','living with parents and siblings','divorced/widowed'])) & (df_2['gender'] == 'Male') & (df_2['dependants_flag'] == 'Has dependants') & (df_2['age_group'] == '65+'), 'family_flag_age'] = 'Older, single man, has children'"
   ]
  },
  {
   "cell_type": "code",
   "execution_count": null,
   "id": "8060829f",
   "metadata": {},
   "outputs": [],
   "source": [
    "# older married man with children\n",
    "df_2.loc[(df_2['fam_status'] == 'married') & (df_2['gender'] == 'Male') & (df_2['dependants_flag'] == 'Has dependants') & (df_2['age_group'] == '65+'), 'family_flag_age'] = 'Older, married man, has children'"
   ]
  },
  {
   "cell_type": "code",
   "execution_count": null,
   "id": "421e1479",
   "metadata": {},
   "outputs": [],
   "source": [
    "# older single man with no children\n",
    "df_2.loc[(df_2['fam_status'].isin(['single','living with parents and siblings','divorced/widowed'])) & (df_2['gender'] == 'Male') & (df_2['dependants_flag'] == 'No dependants') & (df_2['age_group'] == '65+'), 'family_flag_age'] = 'Older, single man, has no children'"
   ]
  },
  {
   "cell_type": "code",
   "execution_count": null,
   "id": "0b6e084d",
   "metadata": {},
   "outputs": [],
   "source": [
    "# older married man with no children\n",
    "df_2.loc[(df_2['fam_status'] == 'married') & (df_2['gender'] == 'Male') & (df_2['dependants_flag'] == 'No dependants') & (df_2['age_group'] == '65+'), 'family_flag_age'] = 'Older, married man, has no children'"
   ]
  },
  {
   "cell_type": "markdown",
   "id": "d356ff9e",
   "metadata": {},
   "source": [
    "women"
   ]
  },
  {
   "cell_type": "code",
   "execution_count": null,
   "id": "9d17a3c2",
   "metadata": {},
   "outputs": [],
   "source": [
    "# young single woman with children\n",
    "df_2.loc[(df_2['fam_status'].isin(['single','living with parents and siblings','divorced/widowed'])) & (df_2['gender'] == 'Female') & (df_2['dependants_flag'] == 'Has dependants') & (df_2['age_group'] == '18-33'), 'family_flag_age'] = 'Young, single woman, has children'"
   ]
  },
  {
   "cell_type": "code",
   "execution_count": null,
   "id": "9efce14e",
   "metadata": {},
   "outputs": [],
   "source": [
    "# young married women with children\n",
    "df_2.loc[(df_2['fam_status'] == 'married') & (df_2['gender'] == 'Female') & (df_2['dependants_flag'] == 'Has dependants') & (df_2['age_group'] == '18-33'), 'family_flag_age'] = 'Young, married woman, has children'"
   ]
  },
  {
   "cell_type": "code",
   "execution_count": null,
   "id": "48a8fb75",
   "metadata": {},
   "outputs": [],
   "source": [
    "# young single woman with no children\n",
    "df_2.loc[(df_2['fam_status'].isin(['single','living with parents and siblings','divorced/widowed'])) & (df_2['gender'] == 'Female') & (df_2['dependants_flag'] == 'No dependants') & (df_2['age_group'] == '18-33'), 'family_flag_age'] = 'Young, single woman, has no children'"
   ]
  },
  {
   "cell_type": "code",
   "execution_count": null,
   "id": "c4ca38e4",
   "metadata": {},
   "outputs": [],
   "source": [
    "# young married woman with no children\n",
    "df_2.loc[(df_2['fam_status'] == 'married') & (df_2['gender'] == 'Female') & (df_2['dependants_flag'] == 'No dependants') & (df_2['age_group'] == '18-33'), 'family_flag_age'] = 'Young, married woman, has no children'"
   ]
  },
  {
   "cell_type": "code",
   "execution_count": null,
   "id": "f6e656b7",
   "metadata": {},
   "outputs": [],
   "source": [
    "# middle-age single woman with children\n",
    "df_2.loc[(df_2['fam_status'].isin(['single','living with parents and siblings','divorced/widowed'])) & (df_2['gender'] == 'Female') & (df_2['dependants_flag'] == 'Has dependants') & (df_2['age_group'] == '34-49'), 'family_flag_age'] = 'Middle-age, single woman, has children'"
   ]
  },
  {
   "cell_type": "code",
   "execution_count": null,
   "id": "c61568b7",
   "metadata": {},
   "outputs": [],
   "source": [
    "# middle-age married woman with children\n",
    "df_2.loc[(df_2['fam_status'] == 'married') & (df_2['gender'] == 'Female') & (df_2['dependants_flag'] == 'Has dependants') & (df_2['age_group'] == '34-49'), 'family_flag_age'] = 'Middle-age, married woman, has children'"
   ]
  },
  {
   "cell_type": "code",
   "execution_count": null,
   "id": "c2fe922f",
   "metadata": {},
   "outputs": [],
   "source": [
    "# middle-age single woman with no children\n",
    "df_2.loc[(df_2['fam_status'].isin(['single','living with parents and siblings','divorced/widowed'])) & (df_2['gender'] == 'Female') & (df_2['dependants_flag'] == 'No dependants') & (df_2['age_group'] == '34-49'), 'family_flag_age'] = 'Middle-age, single woman, has no children'"
   ]
  },
  {
   "cell_type": "code",
   "execution_count": null,
   "id": "6a0a32e0",
   "metadata": {},
   "outputs": [],
   "source": [
    "# middle-age married woman with no children\n",
    "df_2.loc[(df_2['fam_status'] == 'married') & (df_2['gender'] == 'Female') & (df_2['dependants_flag'] == 'No dependants') & (df_2['age_group'] == '34-49'), 'family_flag_age'] = 'Middle-age, married woman, has no children'"
   ]
  },
  {
   "cell_type": "code",
   "execution_count": null,
   "id": "47950841",
   "metadata": {},
   "outputs": [],
   "source": [
    "# middle-old-age single woman with children\n",
    "df_2.loc[(df_2['fam_status'].isin(['single','living with parents and siblings','divorced/widowed'])) & (df_2['gender'] == 'Female') & (df_2['dependants_flag'] == 'Has dependants') & (df_2['age_group'] == '50-65'), 'family_flag_age'] = 'Middle-old-age, single woman, has children'"
   ]
  },
  {
   "cell_type": "code",
   "execution_count": null,
   "id": "d1795142",
   "metadata": {},
   "outputs": [],
   "source": [
    "# middle-old-age married woman with children\n",
    "df_2.loc[(df_2['fam_status'] == 'married') & (df_2['gender'] == 'Female') & (df_2['dependants_flag'] == 'Has dependants') & (df_2['age_group'] == '50-65'), 'family_flag_age'] = 'Middle-old-age, married woman, has children'"
   ]
  },
  {
   "cell_type": "code",
   "execution_count": null,
   "id": "f1f9192f",
   "metadata": {},
   "outputs": [],
   "source": [
    "# middle-old-age single woman with no children\n",
    "df_2.loc[(df_2['fam_status'].isin(['single','living with parents and siblings','divorced/widowed'])) & (df_2['gender'] == 'Female') & (df_2['dependants_flag'] == 'No dependants') & (df_2['age_group'] == '50-65'), 'family_flag_age'] = 'Middle-old-age, single woman, has no children'"
   ]
  },
  {
   "cell_type": "code",
   "execution_count": null,
   "id": "6588f2d6",
   "metadata": {},
   "outputs": [],
   "source": [
    "# middle-old-age married woman with no children\n",
    "df_2.loc[(df_2['fam_status'] == 'married') & (df_2['gender'] == 'Female') & (df_2['dependants_flag'] == 'No dependants') & (df_2['age_group'] == '50-65'), 'family_flag_age'] = 'Middle-old-age, married woman, has no children'"
   ]
  },
  {
   "cell_type": "code",
   "execution_count": null,
   "id": "da25c76e",
   "metadata": {},
   "outputs": [],
   "source": [
    "# older single woman with children\n",
    "df_2.loc[(df_2['fam_status'].isin(['single','living with parents and siblings','divorced/widowed'])) & (df_2['gender'] == 'Female') & (df_2['dependants_flag'] == 'Has dependants') & (df_2['age_group'] == '65+'), 'family_flag_age'] = 'Older, single woman, has children'"
   ]
  },
  {
   "cell_type": "code",
   "execution_count": null,
   "id": "9c11e360",
   "metadata": {},
   "outputs": [],
   "source": [
    "# older married woman with children\n",
    "df_2.loc[(df_2['fam_status'] == 'married') & (df_2['gender'] == 'Female') & (df_2['dependants_flag'] == 'Has dependants') & (df_2['age_group'] == '65+'), 'family_flag_age'] = 'Older, married woman, has children'"
   ]
  },
  {
   "cell_type": "code",
   "execution_count": null,
   "id": "123c71de",
   "metadata": {},
   "outputs": [],
   "source": [
    "# older single woman with no children\n",
    "df_2.loc[(df_2['fam_status'].isin(['single','living with parents and siblings','divorced/widowed'])) & (df_2['gender'] == 'Female') & (df_2['dependants_flag'] == 'No dependants') & (df_2['age_group'] == '65+'), 'family_flag_age'] = 'Older, single woman, has no children'"
   ]
  },
  {
   "cell_type": "code",
   "execution_count": null,
   "id": "b638d622",
   "metadata": {},
   "outputs": [],
   "source": [
    "# older married woman with no children\n",
    "df_2.loc[(df_2['fam_status'] == 'married') & (df_2['gender'] == 'Female') & (df_2['dependants_flag'] == 'No dependants') & (df_2['age_group'] == '65+'), 'family_flag_age'] = 'Older, married woman, has no children'"
   ]
  },
  {
   "cell_type": "markdown",
   "id": "e5a222d3",
   "metadata": {},
   "source": [
    "### Insights"
   ]
  },
  {
   "cell_type": "code",
   "execution_count": null,
   "id": "0b920858",
   "metadata": {
    "scrolled": true
   },
   "outputs": [],
   "source": [
    "df_2['family_flag_income'].value_counts(dropna = False)"
   ]
  },
  {
   "cell_type": "code",
   "execution_count": null,
   "id": "33842674",
   "metadata": {
    "scrolled": true
   },
   "outputs": [],
   "source": [
    "df_2['family_flag_age'].value_counts(dropna = False)"
   ]
  },
  {
   "cell_type": "markdown",
   "id": "dac8bd63",
   "metadata": {},
   "source": [
    "## 04 Export"
   ]
  },
  {
   "cell_type": "code",
   "execution_count": null,
   "id": "61315037",
   "metadata": {},
   "outputs": [],
   "source": [
    "#Export\n",
    "df_2.to_pickle(os.path.join(path, '02 Data', 'Prepared Data', 'df_FINAL.pkl'))"
   ]
  }
 ],
 "metadata": {
  "kernelspec": {
   "display_name": "Python 3 (ipykernel)",
   "language": "python",
   "name": "python3"
  },
  "language_info": {
   "codemirror_mode": {
    "name": "ipython",
    "version": 3
   },
   "file_extension": ".py",
   "mimetype": "text/x-python",
   "name": "python",
   "nbconvert_exporter": "python",
   "pygments_lexer": "ipython3",
   "version": "3.11.5"
  }
 },
 "nbformat": 4,
 "nbformat_minor": 5
}
